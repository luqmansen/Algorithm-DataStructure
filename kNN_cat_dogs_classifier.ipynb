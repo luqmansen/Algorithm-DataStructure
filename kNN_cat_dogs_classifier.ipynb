{
  "nbformat": 4,
  "nbformat_minor": 0,
  "metadata": {
    "colab": {
      "name": "kNN-cat-dogs-classifier.ipynb",
      "provenance": [],
      "toc_visible": true,
      "authorship_tag": "ABX9TyPYgC8FW4+mjFzEeLqUbGSX",
      "include_colab_link": true
    },
    "kernelspec": {
      "name": "python3",
      "display_name": "Python 3"
    }
  },
  "cells": [
    {
      "cell_type": "markdown",
      "metadata": {
        "id": "view-in-github",
        "colab_type": "text"
      },
      "source": [
        "<a href=\"https://colab.research.google.com/github/luqmansen/notebook-collection/blob/master/kNN_cat_dogs_classifier.ipynb\" target=\"_parent\"><img src=\"https://colab.research.google.com/assets/colab-badge.svg\" alt=\"Open In Colab\"/></a>"
      ]
    },
    {
      "cell_type": "markdown",
      "metadata": {
        "id": "VPYgX4yJ1tsl",
        "colab_type": "text"
      },
      "source": [
        "# **Tugas Mata Kuliah Data Mining**\n",
        "## Klasifikasi Data Citra menggunakan KNN\n",
        "\n",
        "1. Luqman Setyo / Nugroho 21120117120008\n",
        "\n",
        "2. Heidy novendra / 21120117130035\n",
        "\n",
        "3. Faiz Noerdiyan / 21120117130060\n",
        "\n",
        "4. Chandra Purnama / 21120117130070"
      ]
    },
    {
      "cell_type": "markdown",
      "metadata": {
        "id": "8tFBHuxpKYFJ",
        "colab_type": "text"
      },
      "source": [
        "Sumber dataset\n",
        "\n",
        "Dogs vs. Cats\n",
        "\n",
        "https://www.kaggle.com/c/dogs-vs-cats/data"
      ]
    },
    {
      "cell_type": "code",
      "metadata": {
        "id": "qIL8_2LA9TX7",
        "colab_type": "code",
        "outputId": "b0e907a3-64bf-401e-c77e-8915eee6e9c3",
        "colab": {
          "base_uri": "https://localhost:8080/",
          "height": 34
        }
      },
      "source": [
        "from google.colab import drive\n",
        "drive.mount('/content/drive/')\n"
      ],
      "execution_count": 2,
      "outputs": [
        {
          "output_type": "stream",
          "text": [
            "Drive already mounted at /content/drive/; to attempt to forcibly remount, call drive.mount(\"/content/drive/\", force_remount=True).\n"
          ],
          "name": "stdout"
        }
      ]
    },
    {
      "cell_type": "code",
      "metadata": {
        "id": "pnd0aF_-lPIr",
        "colab_type": "code",
        "colab": {
          "base_uri": "https://localhost:8080/",
          "height": 34
        },
        "outputId": "ef88a2cb-36dd-4521-d978-70e9e6eb49ad"
      },
      "source": [
        "%cd '/content/drive/My Drive/Colab Notebooks/knn-cat-dogs-classifier'"
      ],
      "execution_count": 3,
      "outputs": [
        {
          "output_type": "stream",
          "text": [
            "/content/drive/My Drive/Colab Notebooks/knn-cat-dogs-classifier\n"
          ],
          "name": "stdout"
        }
      ]
    },
    {
      "cell_type": "code",
      "metadata": {
        "id": "0wl2ko6f_aRi",
        "colab_type": "code",
        "outputId": "04ecf692-fe6e-46f4-f995-313c80103715",
        "colab": {
          "base_uri": "https://localhost:8080/",
          "height": 285
        }
      },
      "source": [
        "!wget 'https://storage.googleapis.com/kaggle-competitions-data/kaggle-v2/3362/31148/bundle/archive.zip?GoogleAccessId=web-data@kaggle-161607.iam.gserviceaccount.com&Expires=1586705610&Signature=rXK24eedObdcRI%2BurzUdWbX7u5AKMrbWaQF6brzetZSXxj98s9tHTIdu3ZZ%2BYsFIemWh9%2BpZlyuMvIGcqbVhIeigN0YC9ymXDpAJ4%2BQYpnlKN%2FG5F48hXLDFdrn12k81W%2BkWd6%2FTOrc%2FuER1j%2FxxegO1m61Xs4gnZFNB3KmApquqnJD5qQLCsO%2BrXStOCjP1zc1F7sc1yVLveTCFO7rVIlIAy1mBTVEk8G%2BaqGkWq8OIsF2gr8hbMUfBOg0ZgMtgddI3VfFER0GqoTpEief2QKv788ZC7myqq29kKDu5yNUa68q6DcvEq5pZnXm88PlmNYp7RM2VnF2dIJ4l0gY6Xg%3D%3D&response-content-disposition=attachment%3B+filename%3Ddogs-vs-cats.zip'"
      ],
      "execution_count": 4,
      "outputs": [
        {
          "output_type": "stream",
          "text": [
            "The name is too long, 522 chars total.\n",
            "Trying to shorten...\n",
            "New name is archive.zip?GoogleAccessId=web-data@kaggle-161607.iam.gserviceaccount.com&Expires=1586705610&Signature=rXK24eedObdcRI+urzUdWbX7u5AKMrbWaQF6brzetZSXxj98s9tHTIdu3ZZ+YsFIemWh9+pZlyuMvIGcqbVhIeigN0YC9ymXDpAJ4+QYpnlKN%2FG5F48hXLDFdrn12k81W+k.\n",
            "--2020-04-09 15:35:42--  https://storage.googleapis.com/kaggle-competitions-data/kaggle-v2/3362/31148/bundle/archive.zip?GoogleAccessId=web-data@kaggle-161607.iam.gserviceaccount.com&Expires=1586705610&Signature=rXK24eedObdcRI%2BurzUdWbX7u5AKMrbWaQF6brzetZSXxj98s9tHTIdu3ZZ%2BYsFIemWh9%2BpZlyuMvIGcqbVhIeigN0YC9ymXDpAJ4%2BQYpnlKN%2FG5F48hXLDFdrn12k81W%2BkWd6%2FTOrc%2FuER1j%2FxxegO1m61Xs4gnZFNB3KmApquqnJD5qQLCsO%2BrXStOCjP1zc1F7sc1yVLveTCFO7rVIlIAy1mBTVEk8G%2BaqGkWq8OIsF2gr8hbMUfBOg0ZgMtgddI3VfFER0GqoTpEief2QKv788ZC7myqq29kKDu5yNUa68q6DcvEq5pZnXm88PlmNYp7RM2VnF2dIJ4l0gY6Xg%3D%3D&response-content-disposition=attachment%3B+filename%3Ddogs-vs-cats.zip\n",
            "Resolving storage.googleapis.com (storage.googleapis.com)... 64.233.189.128, 2404:6800:4008:c01::80\n",
            "Connecting to storage.googleapis.com (storage.googleapis.com)|64.233.189.128|:443... connected.\n",
            "HTTP request sent, awaiting response... 200 OK\n",
            "Length: 851576689 (812M) [application/zip]\n",
            "Saving to: ‘archive.zip?GoogleAccessId=web-data@kaggle-161607.iam.gserviceaccount.com&Expires=1586705610&Signature=rXK24eedObdcRI+urzUdWbX7u5AKMrbWaQF6brzetZSXxj98s9tHTIdu3ZZ+YsFIemWh9+pZlyuMvIGcqbVhIeigN0YC9ymXDpAJ4+QYpnlKN%2FG5F48hXLDFdrn12k81W+k’\n",
            "\n",
            "archive.zip?GoogleA 100%[===================>] 812.13M  37.5MB/s    in 22s     \n",
            "\n",
            "2020-04-09 15:36:04 (37.5 MB/s) - ‘archive.zip?GoogleAccessId=web-data@kaggle-161607.iam.gserviceaccount.com&Expires=1586705610&Signature=rXK24eedObdcRI+urzUdWbX7u5AKMrbWaQF6brzetZSXxj98s9tHTIdu3ZZ+YsFIemWh9+pZlyuMvIGcqbVhIeigN0YC9ymXDpAJ4+QYpnlKN%2FG5F48hXLDFdrn12k81W+k’ saved [851576689/851576689]\n",
            "\n"
          ],
          "name": "stdout"
        }
      ]
    },
    {
      "cell_type": "code",
      "metadata": {
        "id": "SMzc_bd0AAlo",
        "colab_type": "code",
        "colab": {}
      },
      "source": [
        "!unzip -q archive*"
      ],
      "execution_count": 0,
      "outputs": []
    },
    {
      "cell_type": "code",
      "metadata": {
        "id": "5INQdbRJlhUd",
        "colab_type": "code",
        "colab": {
          "base_uri": "https://localhost:8080/",
          "height": 34
        },
        "outputId": "4dbafb71-496b-473f-c25c-4a3f51438a2f"
      },
      "source": [
        "!unzip -q test1.zip"
      ],
      "execution_count": 10,
      "outputs": [
        {
          "output_type": "stream",
          "text": [
            "replace test1/1.jpg? [y]es, [n]o, [A]ll, [N]one, [r]ename: A\n"
          ],
          "name": "stdout"
        }
      ]
    },
    {
      "cell_type": "code",
      "metadata": {
        "id": "1m87q0D4q2zh",
        "colab_type": "code",
        "colab": {}
      },
      "source": [
        "!unzip -q train.zip"
      ],
      "execution_count": 0,
      "outputs": []
    },
    {
      "cell_type": "code",
      "metadata": {
        "id": "USMwZF3yCGsz",
        "colab_type": "code",
        "colab": {}
      },
      "source": [
        "from sklearn.neighbors import KNeighborsClassifier\n",
        "from sklearn.model_selection import GridSearchCV, RandomizedSearchCV, train_test_split\n",
        "from imutils import paths\n",
        "import numpy as np\n",
        "import argparse\n",
        "import imutils\n",
        "import cv2\n",
        "import os\n",
        "import time"
      ],
      "execution_count": 0,
      "outputs": []
    },
    {
      "cell_type": "code",
      "metadata": {
        "id": "TRodSw4HCOW-",
        "colab_type": "code",
        "colab": {}
      },
      "source": [
        "def image_to_feature_vector(image, size=(32, 32)):\n",
        "\t# Konversi gambar menjadi berukuran 32x32 \n",
        "    \n",
        "  # return berupa list of number 32x32x3 (3 = channel rgb) = list of 3.072 \n",
        "\treturn cv2.resize(image, size).flatten()"
      ],
      "execution_count": 0,
      "outputs": []
    },
    {
      "cell_type": "code",
      "metadata": {
        "id": "_mzcSsAPDG-V",
        "colab_type": "code",
        "colab": {}
      },
      "source": [
        "def extract_color_histogram(image, bins=(8, 8, 8)):\n",
        "\t# konversi gambar ke hsv\n",
        "\thsv = cv2.cvtColor(image, cv2.COLOR_BGR2HSV)\n",
        "  # menghitung histogram gambar\n",
        "\thist = cv2.calcHist([hsv], [0, 1, 2], None, bins,[0, 180, 0, 256, 0, 256])\n",
        "\t\n",
        "  # Normalisasi histogram\n",
        "\tif imutils.is_cv2():\n",
        "\t\thist = cv2.normalize(hist)\n",
        "\telse:\n",
        "\t\tcv2.normalize(hist, hist)\n",
        "  \n",
        "\t# return berupa feature vector 512-d (8 untuk tiap H,S,V sehingga 8x8x8)\n",
        "\treturn hist.flatten()"
      ],
      "execution_count": 0,
      "outputs": []
    },
    {
      "cell_type": "code",
      "metadata": {
        "id": "qj_DMqbyFO0B",
        "colab_type": "code",
        "colab": {}
      },
      "source": [
        "imagePaths = list(paths.list_images(\"train/\"))\n",
        "# initialize the raw pixel intensities matrix, the features matrix, and labels list\n",
        "rawImages = []\n",
        "features = []\n",
        "labels = []"
      ],
      "execution_count": 0,
      "outputs": []
    },
    {
      "cell_type": "code",
      "metadata": {
        "id": "iENXUojxFj_T",
        "colab_type": "code",
        "outputId": "33900d4c-b313-4289-e965-546f6cf94120",
        "colab": {
          "base_uri": "https://localhost:8080/",
          "height": 443
        }
      },
      "source": [
        "# loop over the input images\n",
        "for (i, imagePath) in enumerate(imagePaths):\n",
        "  # load the image and extract the class label (assuming that our\n",
        "  # path as the format: /path/to/dataset/{class}.{image_num}.jpg\n",
        "  image = cv2.imread(imagePath)\n",
        "  label = imagePath.split(os.path.sep)[-1].split(\".\")[0]\n",
        "  # extract raw pixel intensity \"features\", followed by a color\n",
        "  # histogram to characterize the color distribution of the pixels in the image\n",
        "  pixels = image_to_feature_vector(image)\n",
        "  hist = extract_color_histogram(image)\n",
        "  # update the raw images, features, and labels matricies, respectively\n",
        "  rawImages.append(pixels)\n",
        "  features.append(hist)\n",
        "  labels.append(label)\n",
        "\t# show an update every 1,000 images\n",
        "  if i > 0 and i % 1000 == 0:\n",
        "    print(\"[INFO] processed {}/{}\".format(i, len(imagePaths)))"
      ],
      "execution_count": 28,
      "outputs": [
        {
          "output_type": "stream",
          "text": [
            "[INFO] processed 1000/25000\n",
            "[INFO] processed 2000/25000\n",
            "[INFO] processed 3000/25000\n",
            "[INFO] processed 4000/25000\n",
            "[INFO] processed 5000/25000\n",
            "[INFO] processed 6000/25000\n",
            "[INFO] processed 7000/25000\n",
            "[INFO] processed 8000/25000\n",
            "[INFO] processed 9000/25000\n",
            "[INFO] processed 10000/25000\n",
            "[INFO] processed 11000/25000\n",
            "[INFO] processed 12000/25000\n",
            "[INFO] processed 13000/25000\n",
            "[INFO] processed 14000/25000\n",
            "[INFO] processed 15000/25000\n",
            "[INFO] processed 16000/25000\n",
            "[INFO] processed 17000/25000\n",
            "[INFO] processed 18000/25000\n",
            "[INFO] processed 19000/25000\n",
            "[INFO] processed 20000/25000\n",
            "[INFO] processed 21000/25000\n",
            "[INFO] processed 22000/25000\n",
            "[INFO] processed 23000/25000\n",
            "[INFO] processed 24000/25000\n"
          ],
          "name": "stdout"
        }
      ]
    },
    {
      "cell_type": "code",
      "metadata": {
        "id": "kyMNe1IiMF25",
        "colab_type": "code",
        "outputId": "f9d0b341-e6d8-4bf5-b303-c2d5d82069b2",
        "colab": {
          "base_uri": "https://localhost:8080/",
          "height": 52
        }
      },
      "source": [
        "# show some information on the memory consumed by the raw images\n",
        "# matrix and features matrix\n",
        "rawImages = np.array(rawImages)\n",
        "features = np.array(features)\n",
        "labels = np.array(labels)\n",
        "print(\"[INFO] pixels matrix: {:.2f}MB\".format(rawImages.nbytes / (1024 * 1000.0)))\n",
        "print(\"[INFO] features matrix: {:.2f}MB\".format(features.nbytes / (1024 * 1000.0)))"
      ],
      "execution_count": 40,
      "outputs": [
        {
          "output_type": "stream",
          "text": [
            "[INFO] pixels matrix: 75.00MB\n",
            "[INFO] features matrix: 50.00MB\n"
          ],
          "name": "stdout"
        }
      ]
    },
    {
      "cell_type": "code",
      "metadata": {
        "id": "iDsHpDDb3Hij",
        "colab_type": "code",
        "colab": {
          "base_uri": "https://localhost:8080/",
          "height": 34
        },
        "outputId": "301f17c0-df3f-4abe-84ab-fdb5c9a942ea"
      },
      "source": [
        "# partition the data into training and testing splits, using 75%\n",
        "# of the data for training and the remaining 25% for testing\n",
        "print(\"[INFO] constructing training/testing split...\")\n",
        "(trainData, testData, trainLabels, testLabels) = train_test_split(\n",
        "\tfeatures, labels, test_size=0.25, random_state=42)"
      ],
      "execution_count": 44,
      "outputs": [
        {
          "output_type": "stream",
          "text": [
            "[INFO] constructing training/testing split...\n"
          ],
          "name": "stdout"
        }
      ]
    },
    {
      "cell_type": "code",
      "metadata": {
        "id": "zDu6E9eE3bBq",
        "colab_type": "code",
        "colab": {
          "base_uri": "https://localhost:8080/",
          "height": 34
        },
        "outputId": "fd0ea1f2-5b9e-4e0d-cad3-eeb1045da85b"
      },
      "source": [
        "# partition the data into training and testing splits, using 75%\n",
        "# of the data for training and the remaining 25% for testing\n",
        "print(\"[INFO] constructing training/testing split...\")\n",
        "(trainDataRI, testDataRI, trainLabelsRI, testLabelsRI) = train_test_split(\n",
        "\trawImages, labels, test_size=0.25, random_state=42)"
      ],
      "execution_count": 45,
      "outputs": [
        {
          "output_type": "stream",
          "text": [
            "[INFO] constructing training/testing split...\n"
          ],
          "name": "stdout"
        }
      ]
    },
    {
      "cell_type": "code",
      "metadata": {
        "id": "9_mMVLCmOR6t",
        "colab_type": "code",
        "outputId": "3a784994-9f70-4aee-aa9e-d3b710427e51",
        "colab": {
          "base_uri": "https://localhost:8080/",
          "height": 52
        }
      },
      "source": [
        "# train and evaluate a k-NN classifer on the raw pixel intensities\n",
        "print(\"[INFO] evaluating raw pixel accuracy...\")\n",
        "model = KNeighborsClassifier(n_neighbors=1,\tn_jobs=-1)\n",
        "model.fit(trainDataRI, trainLabelsRI)\n",
        "acc = model.score(testDataRI, testLabelsRI)\n",
        "print(\"[INFO] raw pixel accuracy: {:.2f}%\".format(acc * 100))"
      ],
      "execution_count": 46,
      "outputs": [
        {
          "output_type": "stream",
          "text": [
            "[INFO] evaluating raw pixel accuracy...\n",
            "[INFO] raw pixel accuracy: 54.56%\n"
          ],
          "name": "stdout"
        }
      ]
    },
    {
      "cell_type": "code",
      "metadata": {
        "id": "ZJ0f_pjLXDPq",
        "colab_type": "code",
        "outputId": "583641ad-7ed1-475b-e4b3-4a9fa9e00d2c",
        "colab": {
          "base_uri": "https://localhost:8080/",
          "height": 52
        }
      },
      "source": [
        "# train and evaluate a k-NN classifer on the histogram\n",
        "print(\"[INFO] evaluating feature pixel accuracy...\")\n",
        "model = KNeighborsClassifier(n_neighbors=1,\tn_jobs=-1)\n",
        "model.fit(trainData, trainLabels)\n",
        "acc = model.score(testData, testLabels)\n",
        "print(\"[INFO] histogram pixel accuracy: {:.2f}%\".format(acc * 100))"
      ],
      "execution_count": 47,
      "outputs": [
        {
          "output_type": "stream",
          "text": [
            "[INFO] evaluating feature pixel accuracy...\n",
            "[INFO] histogram pixel accuracy: 57.42%\n"
          ],
          "name": "stdout"
        }
      ]
    },
    {
      "cell_type": "markdown",
      "metadata": {
        "id": "1Et0ZA0NZL5h",
        "colab_type": "text"
      },
      "source": [
        "## Hyperparameter tunning\n",
        "\n",
        "n_neghbors : jumlah NN k (dari 0 hingga 29, exclusive)\n",
        "\n",
        "metrics : distance function metrics"
      ]
    },
    {
      "cell_type": "code",
      "metadata": {
        "id": "RETBhAhrZJ9Y",
        "colab_type": "code",
        "colab": {}
      },
      "source": [
        "params = {\"n_neighbors\": np.arange(1, 31, 2),\n",
        "\t\"metric\": [\"euclidean\", \"cityblock\"]}"
      ],
      "execution_count": 0,
      "outputs": []
    },
    {
      "cell_type": "code",
      "metadata": {
        "id": "N3iL6vdqcq21",
        "colab_type": "code",
        "colab": {}
      },
      "source": [
        "model = KNeighborsClassifier(n_jobs=4)"
      ],
      "execution_count": 0,
      "outputs": []
    },
    {
      "cell_type": "code",
      "metadata": {
        "id": "nF7JKtJSZeEm",
        "colab_type": "code",
        "colab": {}
      },
      "source": [
        "# Grid Search tuning\n",
        "print(\"[INFO] tuning hyperparameters via grid search\")\n",
        "grid = GridSearchCV(model, params, verbose=1)\n",
        "start = time.time()\n",
        "grid.fit(trainData, trainLabels)\n",
        "# evaluate the best grid searched model on the testing data\n",
        "print(\"[INFO] grid search took {:.2f} seconds\".format(time.time() - start))\n",
        "acc = grid.score(testData, testLabels)\n",
        "print(\"[INFO] grid search accuracy: {:.2f}%\".format(acc * 100))\n",
        "print(\"[INFO] grid search best parameters: {}\".format(grid.best_params_))"
      ],
      "execution_count": 0,
      "outputs": []
    },
    {
      "cell_type": "code",
      "metadata": {
        "id": "_Yxoc2oMcOWt",
        "colab_type": "code",
        "outputId": "77ed77c4-2567-4513-8a46-3dbce689daf7",
        "colab": {
          "base_uri": "https://localhost:8080/",
          "height": 87
        }
      },
      "source": [
        "# tune the hyperparameters via a randomized search\n",
        "print(\"[INFO] tuning hyperparameters via randomized search\")\n",
        "grid = RandomizedSearchCV(model, params)\n",
        "start = time.time()\n",
        "grid.fit(trainData, trainLabels)\n",
        "# evaluate the best randomized searched model on the testing data\n",
        "print(\"[INFO] randomized search took {:.2f} seconds\".format(time.time() - start))\n",
        "acc = grid.score(testData, testLabels)\n",
        "print(\"[INFO] randomized search accuracy: {:.2f}%\".format(acc * 100))\n",
        "print(\"[INFO] randomized search best parameters: {}\".format(grid.best_params_))"
      ],
      "execution_count": 48,
      "outputs": [
        {
          "output_type": "stream",
          "text": [
            "[INFO] tuning hyperparameters via randomized search\n",
            "[INFO] randomized search took 2225.99 seconds\n",
            "[INFO] randomized search accuracy: 64.40%\n",
            "[INFO] randomized search best parameters: {'n_neighbors': 29, 'metric': 'cityblock'}\n"
          ],
          "name": "stdout"
        }
      ]
    }
  ]
}