{
  "nbformat": 4,
  "nbformat_minor": 0,
  "metadata": {
    "colab": {
      "name": "kNN-fruits-classifier.ipynb",
      "provenance": [],
      "collapsed_sections": [],
      "toc_visible": true,
      "authorship_tag": "ABX9TyM+DfFLALpnyiQW5wFnsf2S",
      "include_colab_link": true
    },
    "kernelspec": {
      "name": "python3",
      "display_name": "Python 3"
    }
  },
  "cells": [
    {
      "cell_type": "markdown",
      "metadata": {
        "id": "view-in-github",
        "colab_type": "text"
      },
      "source": [
        "<a href=\"https://colab.research.google.com/github/luqmansen/notebook-collection/blob/master/kNN_fruits_classifier.ipynb\" target=\"_parent\"><img src=\"https://colab.research.google.com/assets/colab-badge.svg\" alt=\"Open In Colab\"/></a>"
      ]
    },
    {
      "cell_type": "markdown",
      "metadata": {
        "id": "FDdgOu2M1_G4",
        "colab_type": "text"
      },
      "source": [
        "# **Tugas Mata Kuliah Data Mining**\n",
        "## Klasifikasi Data Citra menggunakan KNN\n",
        "\n",
        "1. Luqman Setyo / Nugroho 21120117120008\n",
        "\n",
        "2. Heidy novendra / 21120117130035\n",
        "\n",
        "3. Faiz Noerdiyan / 21120117130060\n",
        "\n",
        "4. Chandra Purnama / 21120117130070"
      ]
    },
    {
      "cell_type": "markdown",
      "metadata": {
        "id": "8tFBHuxpKYFJ",
        "colab_type": "text"
      },
      "source": [
        "Sumber dataset\n",
        "\n",
        "Fruits 360\n",
        "\n",
        "A dataset with 82213 images of 120 fruits and vegetables\n",
        "\n",
        "https://www.kaggle.com/moltean/fruits"
      ]
    },
    {
      "cell_type": "code",
      "metadata": {
        "id": "qIL8_2LA9TX7",
        "colab_type": "code",
        "outputId": "8cc77944-7a5c-4e94-91e7-d1db6af28337",
        "colab": {
          "base_uri": "https://localhost:8080/",
          "height": 143
        }
      },
      "source": [
        "from google.colab import drive\n",
        "drive.mount('/content/drive/')\n",
        "%cd '/content/drive/My Drive/Colab Notebooks/knn-fruits-classifier'"
      ],
      "execution_count": 0,
      "outputs": [
        {
          "output_type": "stream",
          "text": [
            "Go to this URL in a browser: https://accounts.google.com/o/oauth2/auth?client_id=947318989803-6bn6qk8qdgf4n4g3pfee6491hc0brc4i.apps.googleusercontent.com&redirect_uri=urn%3aietf%3awg%3aoauth%3a2.0%3aoob&response_type=code&scope=email%20https%3a%2f%2fwww.googleapis.com%2fauth%2fdocs.test%20https%3a%2f%2fwww.googleapis.com%2fauth%2fdrive%20https%3a%2f%2fwww.googleapis.com%2fauth%2fdrive.photos.readonly%20https%3a%2f%2fwww.googleapis.com%2fauth%2fpeopleapi.readonly\n",
            "\n",
            "Enter your authorization code:\n",
            "··········\n",
            "Mounted at /content/drive/\n",
            "/content/drive/My Drive/Colab Notebooks/knn-fruits-classifier\n"
          ],
          "name": "stdout"
        }
      ]
    },
    {
      "cell_type": "code",
      "metadata": {
        "id": "0wl2ko6f_aRi",
        "colab_type": "code",
        "outputId": "91336ee3-2e3e-4278-c9f0-ad3f3a6be9cf",
        "colab": {
          "base_uri": "https://localhost:8080/",
          "height": 285
        }
      },
      "source": [
        "!wget 'https://storage.googleapis.com/kaggle-data-sets/5857/778601/bundle/archive.zip?GoogleAccessId=web-data@kaggle-161607.iam.gserviceaccount.com&Expires=1586705118&Signature=ixhgjk387ewcAIc5nxNyA0fzhkf1yp1d89dkJjr820w05jsfnmB%2BndEuUgHLjg9KpnSCTaFIvYO6VkWIIPNiMRAj5uXuPykG8q%2FS4ddd696Q8V2qPwqXQDxFDFCpb6NnOn%2FuWJ9icVbxvHUUKAeZkjuoFaG%2FVipVbbEGvqG5TiINYxu4%2FkN4S3YPs%2FBZmlUpGHYPyfpIROxeb7JVhZSsjrhTJcGmuG4kftnMldNGvWl8qQMXFjVe2EMpTLi40HTu7L1gHvDIOIx4numHlZOQV8qWztMcKAXahH5RKDkeZD9z%2Fm37WLwcXZ%2FP7pgO8xglGDhX4X4AHtKjAcMsNL9GAQ%3D%3D&response-content-disposition=attachment%3B+filename%3Dfruits.zip'"
      ],
      "execution_count": 0,
      "outputs": [
        {
          "output_type": "stream",
          "text": [
            "The name is too long, 522 chars total.\n",
            "Trying to shorten...\n",
            "New name is archive.zip?GoogleAccessId=web-data@kaggle-161607.iam.gserviceaccount.com&Expires=1586705118&Signature=ixhgjk387ewcAIc5nxNyA0fzhkf1yp1d89dkJjr820w05jsfnmB+ndEuUgHLjg9KpnSCTaFIvYO6VkWIIPNiMRAj5uXuPykG8q%2FS4ddd696Q8V2qPwqXQDxFDFCpb6NnOn%.\n",
            "--2020-04-09 15:27:47--  https://storage.googleapis.com/kaggle-data-sets/5857/778601/bundle/archive.zip?GoogleAccessId=web-data@kaggle-161607.iam.gserviceaccount.com&Expires=1586705118&Signature=ixhgjk387ewcAIc5nxNyA0fzhkf1yp1d89dkJjr820w05jsfnmB%2BndEuUgHLjg9KpnSCTaFIvYO6VkWIIPNiMRAj5uXuPykG8q%2FS4ddd696Q8V2qPwqXQDxFDFCpb6NnOn%2FuWJ9icVbxvHUUKAeZkjuoFaG%2FVipVbbEGvqG5TiINYxu4%2FkN4S3YPs%2FBZmlUpGHYPyfpIROxeb7JVhZSsjrhTJcGmuG4kftnMldNGvWl8qQMXFjVe2EMpTLi40HTu7L1gHvDIOIx4numHlZOQV8qWztMcKAXahH5RKDkeZD9z%2Fm37WLwcXZ%2FP7pgO8xglGDhX4X4AHtKjAcMsNL9GAQ%3D%3D&response-content-disposition=attachment%3B+filename%3Dfruits.zip\n",
            "Resolving storage.googleapis.com (storage.googleapis.com)... 172.217.204.128, 2607:f8b0:400c:c15::80\n",
            "Connecting to storage.googleapis.com (storage.googleapis.com)|172.217.204.128|:443... connected.\n",
            "HTTP request sent, awaiting response... 200 OK\n",
            "Length: 770126979 (734M) [application/zip]\n",
            "Saving to: ‘archive.zip?GoogleAccessId=web-data@kaggle-161607.iam.gserviceaccount.com&Expires=1586705118&Signature=ixhgjk387ewcAIc5nxNyA0fzhkf1yp1d89dkJjr820w05jsfnmB+ndEuUgHLjg9KpnSCTaFIvYO6VkWIIPNiMRAj5uXuPykG8q%2FS4ddd696Q8V2qPwqXQDxFDFCpb6NnOn%’\n",
            "\n",
            "archive.zip?GoogleA 100%[===================>] 734.45M  48.5MB/s    in 14s     \n",
            "\n",
            "2020-04-09 15:28:01 (51.7 MB/s) - ‘archive.zip?GoogleAccessId=web-data@kaggle-161607.iam.gserviceaccount.com&Expires=1586705118&Signature=ixhgjk387ewcAIc5nxNyA0fzhkf1yp1d89dkJjr820w05jsfnmB+ndEuUgHLjg9KpnSCTaFIvYO6VkWIIPNiMRAj5uXuPykG8q%2FS4ddd696Q8V2qPwqXQDxFDFCpb6NnOn%’ saved [770126979/770126979]\n",
            "\n"
          ],
          "name": "stdout"
        }
      ]
    },
    {
      "cell_type": "code",
      "metadata": {
        "id": "SMzc_bd0AAlo",
        "colab_type": "code",
        "colab": {}
      },
      "source": [
        "!unzip -q archive*"
      ],
      "execution_count": 0,
      "outputs": []
    },
    {
      "cell_type": "code",
      "metadata": {
        "id": "USMwZF3yCGsz",
        "colab_type": "code",
        "colab": {}
      },
      "source": [
        "from sklearn.neighbors import KNeighborsClassifier\n",
        "from sklearn.model_selection import GridSearchCV, RandomizedSearchCV\n",
        "from imutils import paths\n",
        "import numpy as np\n",
        "import argparse\n",
        "import imutils\n",
        "import cv2\n",
        "import os\n",
        "import time"
      ],
      "execution_count": 0,
      "outputs": []
    },
    {
      "cell_type": "code",
      "metadata": {
        "id": "TRodSw4HCOW-",
        "colab_type": "code",
        "colab": {}
      },
      "source": [
        "def image_to_feature_vector(image, size=(32, 32)):\n",
        "\t# Konversi gambar menjadi berukuran 32x32 \n",
        "    \n",
        "  # return berupa list of number 32x32x3 (3 = channel rgb) = list of 3.072 \n",
        "\treturn cv2.resize(image, size).flatten()"
      ],
      "execution_count": 0,
      "outputs": []
    },
    {
      "cell_type": "code",
      "metadata": {
        "id": "_mzcSsAPDG-V",
        "colab_type": "code",
        "colab": {}
      },
      "source": [
        "def extract_color_histogram(image, bins=(8, 8, 8)):\n",
        "\t# konversi gambar ke hsv\n",
        "\thsv = cv2.cvtColor(image, cv2.COLOR_BGR2HSV)\n",
        "  # menghitung histogram gambar\n",
        "\thist = cv2.calcHist([hsv], [0, 1, 2], None, bins,[0, 180, 0, 256, 0, 256])\n",
        "\t\n",
        "  # Normalisasi histogram\n",
        "\tif imutils.is_cv2():\n",
        "\t\thist = cv2.normalize(hist)\n",
        "\telse:\n",
        "\t\tcv2.normalize(hist, hist)\n",
        "  \n",
        "\t# return berupa feature vector 512-d (8 untuk tiap H,S,V sehingga 8x8x8)\n",
        "\treturn hist.flatten()"
      ],
      "execution_count": 0,
      "outputs": []
    },
    {
      "cell_type": "code",
      "metadata": {
        "id": "qj_DMqbyFO0B",
        "colab_type": "code",
        "colab": {}
      },
      "source": [
        "imagePaths = list(paths.list_images(\"fruits-360_dataset/fruits-360/Training\"))\n",
        "# initialize the raw pixel intensities matrix, the features matrix, and labels list\n",
        "rawImages = []\n",
        "features = []\n",
        "labels = []"
      ],
      "execution_count": 0,
      "outputs": []
    },
    {
      "cell_type": "code",
      "metadata": {
        "id": "xiUW09HjQM62",
        "colab_type": "code",
        "colab": {}
      },
      "source": [
        "test_imagePaths = list(paths.list_images(\"fruits-360_dataset/fruits-360/Test\"))\n",
        "# initialize the raw pixel intensities matrix, the features matrix, and labels list\n",
        "test_rawImages = []\n",
        "test_features = []\n",
        "test_labels = []"
      ],
      "execution_count": 0,
      "outputs": []
    },
    {
      "cell_type": "code",
      "metadata": {
        "id": "iENXUojxFj_T",
        "colab_type": "code",
        "outputId": "30c76a5e-45c8-4020-b2e4-293d7ff11e4d",
        "colab": {
          "base_uri": "https://localhost:8080/",
          "height": 1000
        }
      },
      "source": [
        "# loop over the input images\n",
        "for (i, imagePath) in enumerate(imagePaths):\n",
        "  # load the image and extract the class label (assuming that our\n",
        "  # path as the format: /path/to/dataset/{class}.{image_num}.jpg\n",
        "  image = cv2.imread(imagePath)\n",
        "  label = imagePath.split(\"/\")[-2]\n",
        "  # extract raw pixel intensity \"features\", followed by a color\n",
        "  # histogram to characterize the color distribution of the pixels in the image\n",
        "  pixels = image_to_feature_vector(image)\n",
        "  hist = extract_color_histogram(image)\n",
        "  # update the raw images, features, and labels matricies, respectively\n",
        "  rawImages.append(pixels)\n",
        "  features.append(hist)\n",
        "  labels.append(label)\n",
        "\t# show an update every 1,000 images\n",
        "  if i > 0 and i % 1000 == 0:\n",
        "    print(\"[INFO] processed {}/{}\".format(i, len(imagePaths)))"
      ],
      "execution_count": 0,
      "outputs": [
        {
          "output_type": "stream",
          "text": [
            "[INFO] processed 1000/60498\n",
            "[INFO] processed 2000/60498\n",
            "[INFO] processed 3000/60498\n",
            "[INFO] processed 4000/60498\n",
            "[INFO] processed 5000/60498\n",
            "[INFO] processed 6000/60498\n",
            "[INFO] processed 7000/60498\n",
            "[INFO] processed 8000/60498\n",
            "[INFO] processed 9000/60498\n",
            "[INFO] processed 10000/60498\n",
            "[INFO] processed 11000/60498\n",
            "[INFO] processed 12000/60498\n",
            "[INFO] processed 13000/60498\n",
            "[INFO] processed 14000/60498\n",
            "[INFO] processed 15000/60498\n",
            "[INFO] processed 16000/60498\n",
            "[INFO] processed 17000/60498\n",
            "[INFO] processed 18000/60498\n",
            "[INFO] processed 19000/60498\n",
            "[INFO] processed 20000/60498\n",
            "[INFO] processed 21000/60498\n",
            "[INFO] processed 22000/60498\n",
            "[INFO] processed 23000/60498\n",
            "[INFO] processed 24000/60498\n",
            "[INFO] processed 25000/60498\n",
            "[INFO] processed 26000/60498\n",
            "[INFO] processed 27000/60498\n",
            "[INFO] processed 28000/60498\n",
            "[INFO] processed 29000/60498\n",
            "[INFO] processed 30000/60498\n",
            "[INFO] processed 31000/60498\n",
            "[INFO] processed 32000/60498\n",
            "[INFO] processed 33000/60498\n",
            "[INFO] processed 34000/60498\n",
            "[INFO] processed 35000/60498\n",
            "[INFO] processed 36000/60498\n",
            "[INFO] processed 37000/60498\n",
            "[INFO] processed 38000/60498\n",
            "[INFO] processed 39000/60498\n",
            "[INFO] processed 40000/60498\n",
            "[INFO] processed 41000/60498\n",
            "[INFO] processed 42000/60498\n",
            "[INFO] processed 43000/60498\n",
            "[INFO] processed 44000/60498\n",
            "[INFO] processed 45000/60498\n",
            "[INFO] processed 46000/60498\n",
            "[INFO] processed 47000/60498\n",
            "[INFO] processed 48000/60498\n",
            "[INFO] processed 49000/60498\n",
            "[INFO] processed 50000/60498\n",
            "[INFO] processed 51000/60498\n",
            "[INFO] processed 52000/60498\n",
            "[INFO] processed 53000/60498\n",
            "[INFO] processed 54000/60498\n",
            "[INFO] processed 55000/60498\n",
            "[INFO] processed 56000/60498\n",
            "[INFO] processed 57000/60498\n",
            "[INFO] processed 58000/60498\n",
            "[INFO] processed 59000/60498\n",
            "[INFO] processed 60000/60498\n"
          ],
          "name": "stdout"
        }
      ]
    },
    {
      "cell_type": "code",
      "metadata": {
        "id": "qMHb_RreTNVE",
        "colab_type": "code",
        "outputId": "f54d079e-17c2-4a69-f145-832579016d89",
        "colab": {
          "base_uri": "https://localhost:8080/",
          "height": 372
        }
      },
      "source": [
        "# loop over the input images\n",
        "for (i, imagePath) in enumerate(test_imagePaths):\n",
        "  # load the image and extract the class label (assuming that our\n",
        "  # path as the format: /path/to/dataset/{class}.{image_num}.jpg\n",
        "  image = cv2.imread(imagePath)\n",
        "  label = imagePath.split(\"/\")[-2]\n",
        "  # extract raw pixel intensity \"features\", followed by a color\n",
        "  # histogram to characterize the color distribution of the pixels in the image\n",
        "  pixels = image_to_feature_vector(image)\n",
        "  hist = extract_color_histogram(image)\n",
        "  # update the raw images, features, and labels matricies, respectively\n",
        "  test_rawImages.append(pixels)\n",
        "  test_features.append(hist)\n",
        "  test_labels.append(label)\n",
        "\t# show an update every 1,000 images\n",
        "  if i > 0 and i % 1000 == 0:\n",
        "    print(\"[INFO] processed {}/{}\".format(i, len(test_imagePaths)))"
      ],
      "execution_count": 0,
      "outputs": [
        {
          "output_type": "stream",
          "text": [
            "[INFO] processed 1000/20622\n",
            "[INFO] processed 2000/20622\n",
            "[INFO] processed 3000/20622\n",
            "[INFO] processed 4000/20622\n",
            "[INFO] processed 5000/20622\n",
            "[INFO] processed 6000/20622\n",
            "[INFO] processed 7000/20622\n",
            "[INFO] processed 8000/20622\n",
            "[INFO] processed 9000/20622\n",
            "[INFO] processed 10000/20622\n",
            "[INFO] processed 11000/20622\n",
            "[INFO] processed 12000/20622\n",
            "[INFO] processed 13000/20622\n",
            "[INFO] processed 14000/20622\n",
            "[INFO] processed 15000/20622\n",
            "[INFO] processed 16000/20622\n",
            "[INFO] processed 17000/20622\n",
            "[INFO] processed 18000/20622\n",
            "[INFO] processed 19000/20622\n",
            "[INFO] processed 20000/20622\n"
          ],
          "name": "stdout"
        }
      ]
    },
    {
      "cell_type": "code",
      "metadata": {
        "id": "kyMNe1IiMF25",
        "colab_type": "code",
        "outputId": "2334a8e2-8813-4ea9-fb61-732b849bfaab",
        "colab": {
          "base_uri": "https://localhost:8080/",
          "height": 87
        }
      },
      "source": [
        "# show some information on the memory consumed by the raw images\n",
        "# matrix and features matrix\n",
        "rawImages = np.array(rawImages)\n",
        "features = np.array(features)\n",
        "labels = np.array(labels)\n",
        "test_rawImages = np.array(test_rawImages)\n",
        "test_features = np.array(test_features)\n",
        "test_labels = np.array(test_labels)\n",
        "print(\"[INFO] pixels matrix: {:.2f}MB\".format(rawImages.nbytes / (1024 * 1000.0)))\n",
        "print(\"[INFO] features matrix: {:.2f}MB\".format(features.nbytes / (1024 * 1000.0)))\n",
        "print(\"[INFO] test pixels matrix: {:.2f}MB\".format(test_rawImages.nbytes / (1024 * 1000.0)))\n",
        "print(\"[INFO] test features matrix: {:.2f}MB\".format(test_features.nbytes / (1024 * 1000.0)))"
      ],
      "execution_count": 0,
      "outputs": [
        {
          "output_type": "stream",
          "text": [
            "[INFO] pixels matrix: 181.49MB\n",
            "[INFO] features matrix: 121.00MB\n",
            "[INFO] test pixels matrix: 61.87MB\n",
            "[INFO] test features matrix: 41.24MB\n"
          ],
          "name": "stdout"
        }
      ]
    },
    {
      "cell_type": "code",
      "metadata": {
        "id": "9_mMVLCmOR6t",
        "colab_type": "code",
        "outputId": "94b1dd79-d700-4551-896b-672fc78e10ab",
        "colab": {
          "base_uri": "https://localhost:8080/",
          "height": 52
        }
      },
      "source": [
        "# train and evaluate a k-NN classifer on the raw pixel intensities\n",
        "print(\"[INFO] evaluating raw pixel accuracy...\")\n",
        "model = KNeighborsClassifier(n_neighbors=1,\tn_jobs=-1)\n",
        "model.fit(rawImages, labels)\n",
        "acc = model.score(test_rawImages, test_labels)\n",
        "print(\"[INFO] raw pixel accuracy: {:.2f}%\".format(acc * 100))"
      ],
      "execution_count": 0,
      "outputs": [
        {
          "output_type": "stream",
          "text": [
            "[INFO] evaluating raw pixel accuracy...\n",
            "[INFO] raw pixel accuracy: 93.56%\n"
          ],
          "name": "stdout"
        }
      ]
    },
    {
      "cell_type": "code",
      "metadata": {
        "id": "ZJ0f_pjLXDPq",
        "colab_type": "code",
        "outputId": "b07e6dc6-dce8-4ee8-a881-6f164b41b072",
        "colab": {
          "base_uri": "https://localhost:8080/",
          "height": 52
        }
      },
      "source": [
        "# train and evaluate a k-NN classifer on the histogram\n",
        "print(\"[INFO] evaluating feature pixel accuracy...\")\n",
        "model = KNeighborsClassifier(n_neighbors=1,\tn_jobs=-1)\n",
        "model.fit(features, labels)\n",
        "acc = model.score(test_features, test_labels)\n",
        "print(\"[INFO] histogram pixel accuracy: {:.2f}%\".format(acc * 100))"
      ],
      "execution_count": 0,
      "outputs": [
        {
          "output_type": "stream",
          "text": [
            "[INFO] evaluating raw pixel accuracy...\n",
            "[INFO] histogram pixel accuracy: 98.00%\n"
          ],
          "name": "stdout"
        }
      ]
    },
    {
      "cell_type": "markdown",
      "metadata": {
        "id": "1Et0ZA0NZL5h",
        "colab_type": "text"
      },
      "source": [
        "## Hyperparameter tunning\n",
        "\n",
        "n_neghbors : jumlah NN k (dari 0 hingga 29, exclusive)\n",
        "\n",
        "metrics : distance function metrics"
      ]
    },
    {
      "cell_type": "code",
      "metadata": {
        "id": "RETBhAhrZJ9Y",
        "colab_type": "code",
        "colab": {}
      },
      "source": [
        "params = {\"n_neighbors\": np.arange(1, 31, 2),\n",
        "\t\"metric\": [\"euclidean\", \"cityblock\"]}"
      ],
      "execution_count": 0,
      "outputs": []
    },
    {
      "cell_type": "code",
      "metadata": {
        "id": "N3iL6vdqcq21",
        "colab_type": "code",
        "colab": {}
      },
      "source": [
        "model = KNeighborsClassifier(n_jobs=-1)"
      ],
      "execution_count": 0,
      "outputs": []
    },
    {
      "cell_type": "code",
      "metadata": {
        "id": "nF7JKtJSZeEm",
        "colab_type": "code",
        "colab": {}
      },
      "source": [
        "# Grid Search tuning\n",
        "print(\"[INFO] tuning hyperparameters via grid search\")\n",
        "grid = GridSearchCV(model, params, verbose=2)\n",
        "start = time.time()\n",
        "grid.fit(features, labels)\n",
        "# evaluate the best grid searched model on the testing data\n",
        "print(\"[INFO] grid search took {:.2f} seconds\".format(time.time() - start))\n",
        "acc = grid.score(test_features, test_labels)\n",
        "print(\"[INFO] grid search accuracy: {:.2f}%\".format(acc * 100))\n",
        "print(\"[INFO] grid search best parameters: {}\".format(grid.best_params_))"
      ],
      "execution_count": 0,
      "outputs": []
    },
    {
      "cell_type": "code",
      "metadata": {
        "id": "_Yxoc2oMcOWt",
        "colab_type": "code",
        "outputId": "68051835-b068-4138-c060-db863c57490b",
        "colab": {
          "base_uri": "https://localhost:8080/",
          "height": 87
        }
      },
      "source": [
        "# tune the hyperparameters via a randomized search\n",
        "print(\"[INFO] tuning hyperparameters via randomized search\")\n",
        "grid = RandomizedSearchCV(model, params)\n",
        "start = time.time()\n",
        "grid.fit(features, labels)\n",
        "# evaluate the best randomized searched model on the testing data\n",
        "print(\"[INFO] randomized search took {:.2f} seconds\".format(time.time() - start))\n",
        "acc = grid.score(test_features, test_labels)\n",
        "print(\"[INFO] randomized search accuracy: {:.2f}%\".format(acc * 100))\n",
        "print(\"[INFO] randomized search best parameters: {}\".format(grid.best_params_))"
      ],
      "execution_count": 0,
      "outputs": [
        {
          "output_type": "stream",
          "text": [
            "[INFO] tuning hyperparameters via randomized search\n",
            "[INFO] randomized search took 3870.37 seconds\n",
            "[INFO] randomized search accuracy: 99.22%\n",
            "[INFO] randomized search best parameters: {'n_neighbors': 1, 'metric': 'cityblock'}\n"
          ],
          "name": "stdout"
        }
      ]
    }
  ]
}