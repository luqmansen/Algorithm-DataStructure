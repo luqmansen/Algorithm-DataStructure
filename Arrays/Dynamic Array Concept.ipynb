{
 "cells": [
  {
   "cell_type": "markdown",
   "metadata": {},
   "source": [
    "In other programming language, when initianting an array, we have to specify the maximum element of the array\n",
    "in python, we don't have to, so it's called dynamic array which by its name is self explanatory.\n",
    "\n",
    "It will increase its size by some unit when a new element is appended in that array. \n",
    "Here some example to make that concept clear"
   ]
  },
  {
   "cell_type": "code",
   "execution_count": 17,
   "metadata": {},
   "outputs": [],
   "source": [
    "import sys\n",
    "\n",
    "data = []\n",
    "\n",
    "def arraySize(n):\n",
    "    \n",
    "    for i in range(n):\n",
    "\n",
    "        #Number of element in array\n",
    "        a = len(data)\n",
    "\n",
    "        #Actual size array taken place in memory\n",
    "        b = sys.getsizeof(data)\n",
    "\n",
    "        print('Array length: {0:2d}; Size in byte: {1:3d}'.format(a,b))\n",
    "        \n",
    "        #add one element into array\n",
    "        data.append(n)"
   ]
  },
  {
   "cell_type": "code",
   "execution_count": 18,
   "metadata": {},
   "outputs": [
    {
     "name": "stdout",
     "output_type": "stream",
     "text": [
      "Array length:  0; Size in byte:  64\n",
      "Array length:  1; Size in byte:  96\n",
      "Array length:  2; Size in byte:  96\n",
      "Array length:  3; Size in byte:  96\n",
      "Array length:  4; Size in byte:  96\n",
      "Array length:  5; Size in byte: 128\n",
      "Array length:  6; Size in byte: 128\n",
      "Array length:  7; Size in byte: 128\n",
      "Array length:  8; Size in byte: 128\n",
      "Array length:  9; Size in byte: 192\n"
     ]
    }
   ],
   "source": [
    "data = []\n",
    "arraySize(10)"
   ]
  },
  {
   "cell_type": "markdown",
   "metadata": {},
   "source": [
    "Notice that in the event of array length added by one, the size is also increases, \n",
    "but it increases in chunk rather than increase small amount of byte every one element added"
   ]
  },
  {
   "cell_type": "markdown",
   "metadata": {},
   "source": [
    "To see this more significant, let's add more element to array"
   ]
  },
  {
   "cell_type": "code",
   "execution_count": 19,
   "metadata": {},
   "outputs": [
    {
     "name": "stdout",
     "output_type": "stream",
     "text": [
      "Array length:  0; Size in byte:  64\n",
      "Array length:  1; Size in byte:  96\n",
      "Array length:  2; Size in byte:  96\n",
      "Array length:  3; Size in byte:  96\n",
      "Array length:  4; Size in byte:  96\n",
      "Array length:  5; Size in byte: 128\n",
      "Array length:  6; Size in byte: 128\n",
      "Array length:  7; Size in byte: 128\n",
      "Array length:  8; Size in byte: 128\n",
      "Array length:  9; Size in byte: 192\n",
      "Array length: 10; Size in byte: 192\n",
      "Array length: 11; Size in byte: 192\n",
      "Array length: 12; Size in byte: 192\n",
      "Array length: 13; Size in byte: 192\n",
      "Array length: 14; Size in byte: 192\n",
      "Array length: 15; Size in byte: 192\n",
      "Array length: 16; Size in byte: 192\n",
      "Array length: 17; Size in byte: 264\n",
      "Array length: 18; Size in byte: 264\n",
      "Array length: 19; Size in byte: 264\n",
      "Array length: 20; Size in byte: 264\n",
      "Array length: 21; Size in byte: 264\n",
      "Array length: 22; Size in byte: 264\n",
      "Array length: 23; Size in byte: 264\n",
      "Array length: 24; Size in byte: 264\n",
      "Array length: 25; Size in byte: 264\n",
      "Array length: 26; Size in byte: 344\n",
      "Array length: 27; Size in byte: 344\n",
      "Array length: 28; Size in byte: 344\n",
      "Array length: 29; Size in byte: 344\n",
      "Array length: 30; Size in byte: 344\n",
      "Array length: 31; Size in byte: 344\n",
      "Array length: 32; Size in byte: 344\n",
      "Array length: 33; Size in byte: 344\n",
      "Array length: 34; Size in byte: 344\n",
      "Array length: 35; Size in byte: 344\n",
      "Array length: 36; Size in byte: 432\n",
      "Array length: 37; Size in byte: 432\n",
      "Array length: 38; Size in byte: 432\n",
      "Array length: 39; Size in byte: 432\n",
      "Array length: 40; Size in byte: 432\n",
      "Array length: 41; Size in byte: 432\n",
      "Array length: 42; Size in byte: 432\n",
      "Array length: 43; Size in byte: 432\n",
      "Array length: 44; Size in byte: 432\n",
      "Array length: 45; Size in byte: 432\n",
      "Array length: 46; Size in byte: 432\n",
      "Array length: 47; Size in byte: 528\n",
      "Array length: 48; Size in byte: 528\n",
      "Array length: 49; Size in byte: 528\n"
     ]
    }
   ],
   "source": [
    "data = []\n",
    "arraySize(50)"
   ]
  },
  {
   "cell_type": "code",
   "execution_count": null,
   "metadata": {},
   "outputs": [],
   "source": []
  }
 ],
 "metadata": {
  "kernelspec": {
   "display_name": "Python 3",
   "language": "python",
   "name": "python3"
  },
  "language_info": {
   "codemirror_mode": {
    "name": "ipython",
    "version": 3
   },
   "file_extension": ".py",
   "mimetype": "text/x-python",
   "name": "python",
   "nbconvert_exporter": "python",
   "pygments_lexer": "ipython3",
   "version": "3.7.3"
  }
 },
 "nbformat": 4,
 "nbformat_minor": 2
}
