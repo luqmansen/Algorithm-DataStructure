{
 "cells": [
  {
   "cell_type": "markdown",
   "metadata": {},
   "source": [
    "## Dynamic Array Implementation"
   ]
  },
  {
   "cell_type": "code",
   "execution_count": 53,
   "metadata": {},
   "outputs": [],
   "source": [
    "import ctypes\n",
    "\n",
    "class DynamicArray(object):\n",
    "    \n",
    "    def __init__(self):\n",
    "        \n",
    "        self.n = 0     #For keep track of which index of array is appended last time\n",
    "        self.capacity = 1\n",
    "        self.A = self.make_array(self.capacity)\n",
    "       \n",
    "    \n",
    "    def __len__(self):\n",
    "        \n",
    "        return self.n\n",
    "    \n",
    "    def __cap__(self):\n",
    "        \n",
    "        return self.capacity\n",
    "        \n",
    "    \n",
    "    def __getitem__(self, k):\n",
    "        \n",
    "        if not 0 <= k < self.n:\n",
    "            return IndexError('Index is out of bounds!')\n",
    "        \n",
    "        return self.A[k]\n",
    "    \n",
    "    \n",
    "    def append(self, ele):\n",
    "        \n",
    "        if self.n == self.capacity:\n",
    "            self._resize(2*self.capacity)  # Make new array that size is twice the old array \n",
    "                                           #if there is not enough room\n",
    "        self.A[self.n] = ele\n",
    "        self.n +=1\n",
    "    \n",
    "    \n",
    "    def _resize(self, new_cap):\n",
    "        \n",
    "        B  = self.make_array(new_cap) # Temporary array for relocate old array\n",
    "        \n",
    "        for k in range(self.n):\n",
    "            B[k] = self.A[k]\n",
    "            \n",
    "        self.A = B\n",
    "        self.capacity = new_cap\n",
    "    \n",
    "    def make_array(s, new_cap):\n",
    "        \n",
    "        return (new_cap * ctypes.py_object)()"
   ]
  },
  {
   "cell_type": "code",
   "execution_count": 54,
   "metadata": {},
   "outputs": [],
   "source": [
    "arr = DynamicArray()"
   ]
  },
  {
   "cell_type": "code",
   "execution_count": 68,
   "metadata": {},
   "outputs": [],
   "source": [
    "arr.append(1)"
   ]
  },
  {
   "cell_type": "code",
   "execution_count": 71,
   "metadata": {},
   "outputs": [
    {
     "data": {
      "text/plain": [
       "5"
      ]
     },
     "execution_count": 71,
     "metadata": {},
     "output_type": "execute_result"
    }
   ],
   "source": [
    "len(arr)"
   ]
  },
  {
   "cell_type": "code",
   "execution_count": 70,
   "metadata": {},
   "outputs": [
    {
     "data": {
      "text/plain": [
       "8"
      ]
     },
     "execution_count": 70,
     "metadata": {},
     "output_type": "execute_result"
    }
   ],
   "source": [
    "arr.__cap__()"
   ]
  },
  {
   "cell_type": "markdown",
   "metadata": {},
   "source": [
    "Well done, this we just created a dynamic array implementation from scratch\n"
   ]
  }
 ],
 "metadata": {
  "kernelspec": {
   "display_name": "Python 3",
   "language": "python",
   "name": "python3"
  },
  "language_info": {
   "codemirror_mode": {
    "name": "ipython",
    "version": 3
   },
   "file_extension": ".py",
   "mimetype": "text/x-python",
   "name": "python",
   "nbconvert_exporter": "python",
   "pygments_lexer": "ipython3",
   "version": "3.7.3"
  }
 },
 "nbformat": 4,
 "nbformat_minor": 2
}
