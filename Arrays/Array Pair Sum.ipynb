{
 "cells": [
  {
   "cell_type": "markdown",
   "metadata": {},
   "source": [
    "# Array Pair Sum\n",
    "\n",
    "## Problem\n",
    "\n",
    "Given an integer array, output all the unique pairs that sum up to a specific value k.\n",
    "\n",
    "So the input:\n",
    "\n",
    "`pair_sum([1,3,2,2],4)`\n",
    "\n",
    "would return 2 pairs:\n",
    "\n",
    " `(1,3)\n",
    " (2,2)`\n",
    "\n",
    "**NOTE: FOR TESTING PURPOSES CHANGE YOUR FUNCTION SO IT OUTPUTS THE NUMBER OF PAIRS**"
   ]
  },
  {
   "cell_type": "code",
   "execution_count": 120,
   "metadata": {},
   "outputs": [],
   "source": [
    "def pair_sum(a,b):\n",
    "    \n",
    "    count = 0\n",
    "    c = []\n",
    "    \n",
    "    for i in range(len(a)):\n",
    "        if  i not in c:\n",
    "            for j in range(len(a)):\n",
    "                if j not in c:\n",
    "                    if i !=j:\n",
    "                        if (a[i] + a[j]) == b:\n",
    "                            #print('1nd number: {0:1d}'.format(a[i]))\n",
    "                            #print('2nd number: {0:1d}'.format(a[j]))\n",
    "                            #print('sum equal {0:1d}'.format(a[i] + a[j]))\n",
    "                            count +=1\n",
    "                            c.append(i)\n",
    "                            c.append(j)\n",
    "    #print(c)\n",
    "    return count\n"
   ]
  },
  {
   "cell_type": "code",
   "execution_count": 105,
   "metadata": {},
   "outputs": [
    {
     "name": "stdout",
     "output_type": "stream",
     "text": [
      "1nd number: 1\n",
      "2nd number: 3\n",
      "sum equal 4\n",
      "1nd number: 2\n",
      "2nd number: 2\n",
      "sum equal 4\n",
      "[0, 1, 2, 3]\n"
     ]
    },
    {
     "data": {
      "text/plain": [
       "2"
      ]
     },
     "execution_count": 105,
     "metadata": {},
     "output_type": "execute_result"
    }
   ],
   "source": [
    "a = [1,3,2,2]\n",
    "b = 4\n",
    "\n",
    "pair_sum(a,b)\n"
   ]
  },
  {
   "cell_type": "code",
   "execution_count": 107,
   "metadata": {},
   "outputs": [
    {
     "name": "stdout",
     "output_type": "stream",
     "text": [
      "1nd number: 1\n",
      "2nd number: 2\n",
      "sum equal 3\n",
      "[0, 1]\n"
     ]
    },
    {
     "data": {
      "text/plain": [
       "1"
      ]
     },
     "execution_count": 107,
     "metadata": {},
     "output_type": "execute_result"
    }
   ],
   "source": [
    "pair_sum([1,2,3,1],3)"
   ]
  },
  {
   "cell_type": "code",
   "execution_count": 121,
   "metadata": {},
   "outputs": [
    {
     "name": "stdout",
     "output_type": "stream",
     "text": [
      "ALL TEST CASES PASSED\n"
     ]
    }
   ],
   "source": [
    "\"\"\"\n",
    "RUN THIS CELL TO TEST YOUR SOLUTION\n",
    "\"\"\"\n",
    "from nose.tools import assert_equal\n",
    "\n",
    "class TestPair(object):\n",
    "    a = [1,9,2,8,3,7,4,6,5,5,13,14,11,13,-1]\n",
    "    def test(self,sol):\n",
    "        assert_equal(sol([1,9,2,8,3,7,4,6,5,5,13,14,11,13,-1],10),6)\n",
    "        assert_equal(sol([1,2,3,1],3),1)\n",
    "        assert_equal(sol([1,3,2,2],4),2)\n",
    "        print('ALL TEST CASES PASSED')\n",
    "        \n",
    "#Run tests\n",
    "t = TestPair()\n",
    "t.test(pair_sum)\n",
    "    "
   ]
  },
  {
   "cell_type": "markdown",
   "metadata": {},
   "source": [
    "## Well done boys\n",
    "\n",
    "although, the algorithm we use is kinda brute force since i'm not yet figured out if it was more efficient using set() data structure\n",
    "\n",
    "what i've done is tracking the index of the array rather than the element itself, that's one point for make this algorithm isn't the most efficient "
   ]
  },
  {
   "cell_type": "markdown",
   "metadata": {},
   "source": [
    "\n",
    "\n",
    "## Solution from answer key\n",
    "\n",
    "this has almost similiar approach but using set() data structure\n"
   ]
  },
  {
   "cell_type": "code",
   "execution_count": 181,
   "metadata": {},
   "outputs": [],
   "source": [
    "def pair_sum2(arr, k):\n",
    "    \n",
    "    #Edge case check if the array have less than 2 element\n",
    "    if len(arr)<2:\n",
    "        return\n",
    "    \n",
    "    seen = set() \n",
    "    output = set()\n",
    "    \n",
    "    for num1 in arr:\n",
    "        \n",
    "        num2 = k - num1\n",
    "        #print(num2)        \n",
    "        if num2 not in seen:\n",
    "            seen.add(num1)\n",
    "            #print(seen)\n",
    "                               \n",
    "        else:\n",
    "            output.add((min(num1, num2),max(num1,num2)))\n",
    "            \n",
    "    print(\"\\n\".join(map(str,list(output))))\n",
    "    \n",
    "    "
   ]
  },
  {
   "cell_type": "code",
   "execution_count": 183,
   "metadata": {},
   "outputs": [
    {
     "name": "stdout",
     "output_type": "stream",
     "text": [
      "(1, 3)\n",
      "(2, 2)\n"
     ]
    }
   ],
   "source": [
    "arr = [3,1,4,1,2,3,4,1,2,2,9,-3,3]\n",
    "k   = 4\n",
    "\n",
    "pair_sum2(arr,k)"
   ]
  },
  {
   "cell_type": "code",
   "execution_count": 173,
   "metadata": {},
   "outputs": [
    {
     "name": "stdout",
     "output_type": "stream",
     "text": [
      "{0}\n",
      "{0, 4}\n"
     ]
    }
   ],
   "source": [
    "t = set()\n",
    "t.add(0)\n",
    "print(t)\n",
    "t.add(4)\n",
    "print(t)\n"
   ]
  }
 ],
 "metadata": {
  "kernelspec": {
   "display_name": "Python 3",
   "language": "python",
   "name": "python3"
  },
  "language_info": {
   "codemirror_mode": {
    "name": "ipython",
    "version": 3
   },
   "file_extension": ".py",
   "mimetype": "text/x-python",
   "name": "python",
   "nbconvert_exporter": "python",
   "pygments_lexer": "ipython3",
   "version": "3.7.3"
  }
 },
 "nbformat": 4,
 "nbformat_minor": 2
}
