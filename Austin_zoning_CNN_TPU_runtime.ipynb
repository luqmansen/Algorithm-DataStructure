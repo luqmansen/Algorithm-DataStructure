{
  "nbformat": 4,
  "nbformat_minor": 0,
  "metadata": {
    "colab": {
      "name": "Austin-zoning-CNN-TPU-runtime.ipynb",
      "provenance": [],
      "collapsed_sections": [],
      "authorship_tag": "ABX9TyPyRWL5OVs32YGiwd+r4q9k",
      "include_colab_link": true
    },
    "kernelspec": {
      "name": "python3",
      "display_name": "Python 3"
    },
    "accelerator": "TPU"
  },
  "cells": [
    {
      "cell_type": "markdown",
      "metadata": {
        "id": "view-in-github",
        "colab_type": "text"
      },
      "source": [
        "<a href=\"https://colab.research.google.com/github/luqmansen/notebook-collection/blob/master/Austin_zoning_CNN_TPU_runtime.ipynb\" target=\"_parent\"><img src=\"https://colab.research.google.com/assets/colab-badge.svg\" alt=\"Open In Colab\"/></a>"
      ]
    },
    {
      "cell_type": "code",
      "metadata": {
        "id": "VFB0YVQiSjFf",
        "colab_type": "code",
        "outputId": "e5bc3b13-fb1d-47c0-d88c-e3dc66e888ab",
        "colab": {
          "base_uri": "https://localhost:8080/",
          "height": 52
        }
      },
      "source": [
        "from google.colab import drive\n",
        "drive.mount('/content/drive/')\n",
        "%cd '/content/drive/My Drive/Colab Notebooks/CNN-austin-zoning'"
      ],
      "execution_count": 92,
      "outputs": [
        {
          "output_type": "stream",
          "text": [
            "Drive already mounted at /content/drive/; to attempt to forcibly remount, call drive.mount(\"/content/drive/\", force_remount=True).\n",
            "/content/drive/My Drive/Colab Notebooks/CNN-austin-zoning\n"
          ],
          "name": "stdout"
        }
      ]
    },
    {
      "cell_type": "code",
      "metadata": {
        "id": "T9r5yyPhTFUh",
        "colab_type": "code",
        "outputId": "76fcb2c5-00fb-4714-e00a-b8bd580941ca",
        "colab": {
          "base_uri": "https://localhost:8080/",
          "height": 285
        }
      },
      "source": [
        "!wget 'https://storage.googleapis.com/kaggle-data-sets/8857/12355/bundle/archive.zip?GoogleAccessId=web-data@kaggle-161607.iam.gserviceaccount.com&Expires=1587221111&Signature=bpwgfs1oAeNOe%2B2u41kzQWvUvb7a7cZ1OLkkjfFn%2F7RWt876RaoGjlcNzrAC7Zrm2JzvHIGb7DcG0sOMG5%2BNZzd2bN4Ad2iBzckNl4QpmPz54lc3EOj7w9e4C1Dn14PRxhzXUR%2BwFcNPHIYvj6SdKoGRLqtwq%2FaBV%2B4ZnXWTaPlUX9v9NVt7afFhcNoRE%2FJuhXpFNOeTFDKZmm%2B3zRoBYhg6p1Ma%2F4B9ZsB1Qbhj88LSJqzm6Xqwup3vBpnZl7vL2U9fUkcvt9Kjt00JWv%2FxZzOI666nsFpmSLMn006pHL4hm1hh4ASMQwft%2BUOF%2FxY1U427pLg7f9Nvk9spmMSPPA%3D%3D&response-content-disposition=attachment%3B+filename%3Daustin-zoning-satellite-images.zip'"
      ],
      "execution_count": 93,
      "outputs": [
        {
          "output_type": "stream",
          "text": [
            "The name is too long, 544 chars total.\n",
            "Trying to shorten...\n",
            "New name is archive.zip?GoogleAccessId=web-data@kaggle-161607.iam.gserviceaccount.com&Expires=1587221111&Signature=bpwgfs1oAeNOe+2u41kzQWvUvb7a7cZ1OLkkjfFn%2F7RWt876RaoGjlcNzrAC7Zrm2JzvHIGb7DcG0sOMG5+NZzd2bN4Ad2iBzckNl4QpmPz54lc3EOj7w9e4C1Dn14PRxhz.\n",
            "--2020-04-16 03:06:10--  https://storage.googleapis.com/kaggle-data-sets/8857/12355/bundle/archive.zip?GoogleAccessId=web-data@kaggle-161607.iam.gserviceaccount.com&Expires=1587221111&Signature=bpwgfs1oAeNOe%2B2u41kzQWvUvb7a7cZ1OLkkjfFn%2F7RWt876RaoGjlcNzrAC7Zrm2JzvHIGb7DcG0sOMG5%2BNZzd2bN4Ad2iBzckNl4QpmPz54lc3EOj7w9e4C1Dn14PRxhzXUR%2BwFcNPHIYvj6SdKoGRLqtwq%2FaBV%2B4ZnXWTaPlUX9v9NVt7afFhcNoRE%2FJuhXpFNOeTFDKZmm%2B3zRoBYhg6p1Ma%2F4B9ZsB1Qbhj88LSJqzm6Xqwup3vBpnZl7vL2U9fUkcvt9Kjt00JWv%2FxZzOI666nsFpmSLMn006pHL4hm1hh4ASMQwft%2BUOF%2FxY1U427pLg7f9Nvk9spmMSPPA%3D%3D&response-content-disposition=attachment%3B+filename%3Daustin-zoning-satellite-images.zip\n",
            "Resolving storage.googleapis.com (storage.googleapis.com)... 108.177.111.128, 2607:f8b0:4001:c07::80\n",
            "Connecting to storage.googleapis.com (storage.googleapis.com)|108.177.111.128|:443... connected.\n",
            "HTTP request sent, awaiting response... 200 OK\n",
            "Length: 1192346706 (1.1G) [application/zip]\n",
            "Saving to: ‘archive.zip?GoogleAccessId=web-data@kaggle-161607.iam.gserviceaccount.com&Expires=1587221111&Signature=bpwgfs1oAeNOe+2u41kzQWvUvb7a7cZ1OLkkjfFn%2F7RWt876RaoGjlcNzrAC7Zrm2JzvHIGb7DcG0sOMG5+NZzd2bN4Ad2iBzckNl4QpmPz54lc3EOj7w9e4C1Dn14PRxhz.2’\n",
            "\n",
            "archive.zip?GoogleA 100%[===================>]   1.11G  59.1MB/s    in 25s     \n",
            "\n",
            "2020-04-16 03:06:35 (46.3 MB/s) - ‘archive.zip?GoogleAccessId=web-data@kaggle-161607.iam.gserviceaccount.com&Expires=1587221111&Signature=bpwgfs1oAeNOe+2u41kzQWvUvb7a7cZ1OLkkjfFn%2F7RWt876RaoGjlcNzrAC7Zrm2JzvHIGb7DcG0sOMG5+NZzd2bN4Ad2iBzckNl4QpmPz54lc3EOj7w9e4C1Dn14PRxhz.2’ saved [1192346706/1192346706]\n",
            "\n"
          ],
          "name": "stdout"
        }
      ]
    },
    {
      "cell_type": "code",
      "metadata": {
        "id": "Suj324XBTjhE",
        "colab_type": "code",
        "colab": {
          "base_uri": "https://localhost:8080/",
          "height": 107
        },
        "outputId": "0bbf34d9-1101-4193-e7af-80410ac206da"
      },
      "source": [
        "!unzip -q archive*"
      ],
      "execution_count": 94,
      "outputs": [
        {
          "output_type": "stream",
          "text": [
            "caution: filename not matched:  archive.zip?GoogleAccessId=web-data@kaggle-161607.iam.gserviceaccount.com&Expires=1587221111&Signature=bpwgfs1oAeNOe+2u41kzQWvUvb7a7cZ1OLkkjfFn%2F7RWt876RaoGjlcNzrAC7Zrm2JzvHIGb7DcG0sOMG5+NZzd2bN4Ad2iBzckNl4QpmPz54lc3EOj7w9e4C1Dn14PRxhz.1\n",
            "caution: filename not matched:  archive.zip?GoogleAccessId=web-data@kaggle-161607.iam.gserviceaccount.com&Expires=1587221111&Signature=bpwgfs1oAeNOe+2u41kzQWvUvb7a7cZ1OLkkjfFn%2F7RWt876RaoGjlcNzrAC7Zrm2JzvHIGb7DcG0sOMG5+NZzd2bN4Ad2iBzckNl4QpmPz54lc3EOj7w9e4C1Dn14PRxhz.2\n",
            "\n",
            "1 archive had fatal errors.\n"
          ],
          "name": "stdout"
        }
      ]
    },
    {
      "cell_type": "code",
      "metadata": {
        "id": "zPFPvOIKbfj3",
        "colab_type": "code",
        "colab": {}
      },
      "source": [
        "from __future__ import print_function\n",
        "import pandas as pd\n",
        "import shutil\n",
        "import os\n",
        "import sys\n",
        "import numpy as np\n",
        "COPY_STATUS = False"
      ],
      "execution_count": 0,
      "outputs": []
    },
    {
      "cell_type": "code",
      "metadata": {
        "id": "IrZQkhmubr1i",
        "colab_type": "code",
        "colab": {}
      },
      "source": [
        "train_dir = 'train_dir/'\n",
        "src_dir = 'data/'\n",
        "if not os.path.exists(train_dir):\n",
        "    os.mkdir(train_dir)"
      ],
      "execution_count": 0,
      "outputs": []
    },
    {
      "cell_type": "code",
      "metadata": {
        "id": "YJCImLlpc0dS",
        "colab_type": "code",
        "outputId": "6e8f3ab0-c9c1-4c77-a779-eb2cd47d3fc6",
        "colab": {
          "base_uri": "https://localhost:8080/",
          "height": 406
        }
      },
      "source": [
        "labels = pd.read_csv(\"data/austin.csv\", index_col=0)\n",
        "labels = labels.drop('zoning_id',1)\n",
        "labels"
      ],
      "execution_count": 97,
      "outputs": [
        {
          "output_type": "execute_result",
          "data": {
            "text/html": [
              "<div>\n",
              "<style scoped>\n",
              "    .dataframe tbody tr th:only-of-type {\n",
              "        vertical-align: middle;\n",
              "    }\n",
              "\n",
              "    .dataframe tbody tr th {\n",
              "        vertical-align: top;\n",
              "    }\n",
              "\n",
              "    .dataframe thead th {\n",
              "        text-align: right;\n",
              "    }\n",
              "</style>\n",
              "<table border=\"1\" class=\"dataframe\">\n",
              "  <thead>\n",
              "    <tr style=\"text-align: right;\">\n",
              "      <th></th>\n",
              "      <th>image_name</th>\n",
              "      <th>zoning_zty</th>\n",
              "    </tr>\n",
              "  </thead>\n",
              "  <tbody>\n",
              "    <tr>\n",
              "      <th>0</th>\n",
              "      <td>data/austin_0.jpg</td>\n",
              "      <td>PUD</td>\n",
              "    </tr>\n",
              "    <tr>\n",
              "      <th>1</th>\n",
              "      <td>data/austin_1.jpg</td>\n",
              "      <td>PUD</td>\n",
              "    </tr>\n",
              "    <tr>\n",
              "      <th>2</th>\n",
              "      <td>data/austin_2.jpg</td>\n",
              "      <td>I-RR</td>\n",
              "    </tr>\n",
              "    <tr>\n",
              "      <th>3</th>\n",
              "      <td>data/austin_3.jpg</td>\n",
              "      <td>PUD</td>\n",
              "    </tr>\n",
              "    <tr>\n",
              "      <th>4</th>\n",
              "      <td>data/austin_4.jpg</td>\n",
              "      <td>PUD</td>\n",
              "    </tr>\n",
              "    <tr>\n",
              "      <th>...</th>\n",
              "      <td>...</td>\n",
              "      <td>...</td>\n",
              "    </tr>\n",
              "    <tr>\n",
              "      <th>3662</th>\n",
              "      <td>data/austin_3662.jpg</td>\n",
              "      <td>PUD</td>\n",
              "    </tr>\n",
              "    <tr>\n",
              "      <th>3663</th>\n",
              "      <td>data/austin_3663.jpg</td>\n",
              "      <td>PUD</td>\n",
              "    </tr>\n",
              "    <tr>\n",
              "      <th>3664</th>\n",
              "      <td>data/austin_3664.jpg</td>\n",
              "      <td>PUD</td>\n",
              "    </tr>\n",
              "    <tr>\n",
              "      <th>3665</th>\n",
              "      <td>data/austin_3665.jpg</td>\n",
              "      <td>PUD</td>\n",
              "    </tr>\n",
              "    <tr>\n",
              "      <th>3666</th>\n",
              "      <td>data/austin_3666.jpg</td>\n",
              "      <td>PUD</td>\n",
              "    </tr>\n",
              "  </tbody>\n",
              "</table>\n",
              "<p>3667 rows × 2 columns</p>\n",
              "</div>"
            ],
            "text/plain": [
              "                image_name zoning_zty\n",
              "0        data/austin_0.jpg        PUD\n",
              "1        data/austin_1.jpg        PUD\n",
              "2        data/austin_2.jpg       I-RR\n",
              "3        data/austin_3.jpg        PUD\n",
              "4        data/austin_4.jpg        PUD\n",
              "...                    ...        ...\n",
              "3662  data/austin_3662.jpg        PUD\n",
              "3663  data/austin_3663.jpg        PUD\n",
              "3664  data/austin_3664.jpg        PUD\n",
              "3665  data/austin_3665.jpg        PUD\n",
              "3666  data/austin_3666.jpg        PUD\n",
              "\n",
              "[3667 rows x 2 columns]"
            ]
          },
          "metadata": {
            "tags": []
          },
          "execution_count": 97
        }
      ]
    },
    {
      "cell_type": "code",
      "metadata": {
        "id": "LpRPvPRef8JG",
        "colab_type": "code",
        "colab": {}
      },
      "source": [
        "if COPY_STATUS is True:\n",
        "  for filename, zoning_class in labels.values:\n",
        "    filename = filename.replace('data/','')\n",
        "    zoning_class = zoning_class.replace('/','~')\n",
        "\n",
        "    if not os.path.exists(train_dir + zoning_class):\n",
        "      os.mkdir(train_dir + zoning_class)\n",
        "    \n",
        "    src_path = src_dir + filename\n",
        "    dst_path = train_dir + zoning_class + \"/\" + filename\n",
        "\n",
        "    try:\n",
        "      shutil.copy(src_path, dst_path)\n",
        "    except IOError as e:\n",
        "      print('Unable to copy file {} to {}, error {}'.format(src_path, dst_path, e))\n",
        "    except:\n",
        "        print('When try copy file {} to {}, unexpected error: {}'\n",
        "                .format(src_path, dst_path, sys.exc_info()))"
      ],
      "execution_count": 0,
      "outputs": []
    },
    {
      "cell_type": "code",
      "metadata": {
        "id": "kryH11ZWmCWF",
        "colab_type": "code",
        "outputId": "9b28a863-e89a-49b4-e764-711543b6d286",
        "colab": {
          "base_uri": "https://localhost:8080/",
          "height": 1000
        }
      },
      "source": [
        "!apt install tree && tree -d"
      ],
      "execution_count": 99,
      "outputs": [
        {
          "output_type": "stream",
          "text": [
            "Reading package lists... Done\n",
            "Building dependency tree       \n",
            "Reading state information... Done\n",
            "tree is already the newest version (1.7.0-5).\n",
            "0 upgraded, 0 newly installed, 0 to remove and 25 not upgraded.\n",
            ".\n",
            "├── data\n",
            "│   └── data\n",
            "└── train_dir\n",
            "    ├── AG\n",
            "    ├── AG-NP\n",
            "    ├── AV\n",
            "    ├── CBD\n",
            "    ├── CH\n",
            "    ├── CH-CO\n",
            "    ├── CH-NP\n",
            "    ├── CH-PDA\n",
            "    ├── CR\n",
            "    ├── CR-CO\n",
            "    ├── CS\n",
            "    ├── CS-1\n",
            "    ├── CS-1-CO-NP\n",
            "    ├── CS-1-H\n",
            "    ├── CS-1-MU-CO-NP\n",
            "    ├── CS-1-V-NP\n",
            "    ├── CS-CO\n",
            "    ├── CS-CO-MU-NP\n",
            "    ├── CS-CO-NP\n",
            "    ├── CS-MU-CO\n",
            "    ├── CS-MU-CO-NP\n",
            "    ├── CS-MU-NP\n",
            "    ├── CS-MU-V-CO-NP\n",
            "    ├── CS-MU-V-NP\n",
            "    ├── CS-NP\n",
            "    ├── CS-V\n",
            "    ├── CS-V-CO-NP\n",
            "    ├── CS-V-NCCD-NP\n",
            "    ├── CS-V-NP\n",
            "    ├── DMU-CO\n",
            "    ├── DMU-H-CO\n",
            "    ├── DR\n",
            "    ├── DR-NP\n",
            "    ├── ERC\n",
            "    ├── GO\n",
            "    ├── GO-CO\n",
            "    ├── GO-CO-NP\n",
            "    ├── GO-MU-CO\n",
            "    ├── GO-MU-CO-NP\n",
            "    ├── GO-MU-NP\n",
            "    ├── GO-MU-V-NP\n",
            "    ├── GO-NP\n",
            "    ├── GR\n",
            "    ├── GR-CO\n",
            "    ├── GR-CO-NP\n",
            "    ├── GR-MU\n",
            "    ├── GR-MU-CO\n",
            "    ├── GR-MU-CO-NP\n",
            "    ├── GR-MU-NP\n",
            "    ├── GR-NP\n",
            "    ├── GR-V\n",
            "    ├── GR-V-CO-NP\n",
            "    ├── GR-V-NP\n",
            "    ├── I-MF-2\n",
            "    ├── I-MF-3\n",
            "    ├── IP\n",
            "    ├── IP-CO\n",
            "    ├── IP-CO-NP\n",
            "    ├── IP-NP\n",
            "    ├── IP-PDA\n",
            "    ├── I-PUD\n",
            "    ├── I-RR\n",
            "    ├── I-SF-2\n",
            "    ├── I-SF-4A\n",
            "    ├── LA\n",
            "    ├── LI\n",
            "    ├── LI-CO\n",
            "    ├── LI-CO-NP\n",
            "    ├── LI-NP\n",
            "    ├── LI-PDA\n",
            "    ├── LI-PDA-NP\n",
            "    ├── L-NP\n",
            "    ├── LO\n",
            "    ├── LO-CO\n",
            "    ├── LO-CO-NP\n",
            "    ├── LO-H-MU-V-CO-NP\n",
            "    ├── LO-MU\n",
            "    ├── LO-MU-CO\n",
            "    ├── LO-MU-CO-NP\n",
            "    ├── LO-MU-NP\n",
            "    ├── LO-MU-V-CO-NP\n",
            "    ├── LO-NP\n",
            "    ├── LO-V\n",
            "    ├── LO-V-NP\n",
            "    ├── LR\n",
            "    ├── LR-CO\n",
            "    ├── LR-CO-NP\n",
            "    ├── LR-MU-CO\n",
            "    ├── LR-MU-V-NP\n",
            "    ├── LR-NP\n",
            "    ├── LR-V-CO-NP\n",
            "    ├── MF-1\n",
            "    ├── MF-1-CO\n",
            "    ├── MF-1-CO-NP\n",
            "    ├── MF-1-NP\n",
            "    ├── MF-2\n",
            "    ├── MF-2-CO\n",
            "    ├── MF-2-CO-NP\n",
            "    ├── MF-2-NCCD-NP\n",
            "    ├── MF-2-NP\n",
            "    ├── MF-3\n",
            "    ├── MF-3-CO\n",
            "    ├── MF-3-CO-NP\n",
            "    ├── MF-3-NP\n",
            "    ├── MF-4\n",
            "    ├── MF-4-CO\n",
            "    ├── MF-4-CO-NP\n",
            "    ├── MF-4-H-NP\n",
            "    ├── MF-4-NCCD-NP\n",
            "    ├── MF-4-NP\n",
            "    ├── MF-5\n",
            "    ├── MF-6-CO-NP\n",
            "    ├── MF-CO\n",
            "    ├── MH\n",
            "    ├── MH-CO\n",
            "    ├── MH-CO-NP\n",
            "    ├── MH-NP\n",
            "    ├── MI-NP\n",
            "    ├── MI-PDA\n",
            "    ├── NBG-NP\n",
            "    ├── NO-CO\n",
            "    ├── NO-MU-CO\n",
            "    ├── P\n",
            "    ├── P-CO\n",
            "    ├── P-CO-NP\n",
            "    ├── P-H\n",
            "    ├── P-H-NP\n",
            "    ├── P-NCCD-NP\n",
            "    ├── P-NP\n",
            "    ├── PUD\n",
            "    ├── PUD-NP\n",
            "    ├── R&D\n",
            "    ├── R&D-PDA\n",
            "    ├── RR\n",
            "    ├── RR-CO\n",
            "    ├── RR-CO-NP\n",
            "    ├── RR-NP\n",
            "    ├── SF-1\n",
            "    ├── SF-1-CO\n",
            "    ├── SF-1-CO-NP\n",
            "    ├── SF-1-NP\n",
            "    ├── SF-2\n",
            "    ├── SF-2-CO\n",
            "    ├── SF-2-CO-NP\n",
            "    ├── SF-2-NP\n",
            "    ├── SF-3\n",
            "    ├── SF-3-CO-NP\n",
            "    ├── SF-3-H\n",
            "    ├── SF-3-H-CO-NP\n",
            "    ├── SF-3-H-HD-NCCD-NP\n",
            "    ├── SF-3-NCCD-NP\n",
            "    ├── SF-3-NCCD-NP-HD\n",
            "    ├── SF-3-NP\n",
            "    ├── SF-4A\n",
            "    ├── SF-4-A\n",
            "    ├── SF-4A-CO\n",
            "    ├── SF-4A-NP\n",
            "    ├── SF-5\n",
            "    ├── SF-6\n",
            "    ├── SF-6-CO\n",
            "    ├── SF-6-CO-NP\n",
            "    ├── SF-6-NP\n",
            "    ├── TOD-CURE-NP\n",
            "    ├── TOD-NP\n",
            "    ├── TOD-NP-CO\n",
            "    ├── UNZ\n",
            "    └── W~LO-CO\n",
            "\n",
            "170 directories\n"
          ],
          "name": "stdout"
        }
      ]
    },
    {
      "cell_type": "markdown",
      "metadata": {
        "id": "iShIF3hAop0_",
        "colab_type": "text"
      },
      "source": [
        "Arsitektur Keras untuk Multi-label classification\n",
        "![image.png](data:image/png;base64,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)"
      ]
    },
    {
      "cell_type": "code",
      "metadata": {
        "id": "D1tXxghLo7Ab",
        "colab_type": "code",
        "colab": {}
      },
      "source": [
        "import tensorflow as tf\n",
        "from tensorflow.keras.layers import Conv2D\n",
        "from tensorflow.keras.layers import Flatten\n",
        "from tensorflow.keras.layers import MaxPooling2D\n",
        "from tensorflow.keras.layers import Dropout\n",
        "from tensorflow.keras.layers import BatchNormalization\n",
        "from tensorflow.keras.layers import Activation\n",
        "from tensorflow.keras.layers import Dense\n",
        "from tensorflow.keras import backend as K\n",
        "os.environ['KERAS_BACKEND'] = 'theano'"
      ],
      "execution_count": 0,
      "outputs": []
    },
    {
      "cell_type": "code",
      "metadata": {
        "id": "w8I7jnngDUvC",
        "colab_type": "code",
        "outputId": "a8536efd-a5c0-47d4-c2a5-78808a1b3ec4",
        "colab": {
          "base_uri": "https://localhost:8080/",
          "height": 34
        }
      },
      "source": [
        "tf.test.gpu_device_name()"
      ],
      "execution_count": 101,
      "outputs": [
        {
          "output_type": "execute_result",
          "data": {
            "text/plain": [
              "''"
            ]
          },
          "metadata": {
            "tags": []
          },
          "execution_count": 101
        }
      ]
    },
    {
      "cell_type": "code",
      "metadata": {
        "id": "TzYu5Tdfoo21",
        "colab_type": "code",
        "colab": {}
      },
      "source": [
        "class SmallerVGGNet:\n",
        "  @staticmethod\n",
        "  def build(width, height, depth, classes, finalAct=\"softmax\"):\n",
        "\n",
        "    model = tf.keras.Sequential()\n",
        "    inputShape = (height, width, depth)\n",
        "    chanDim = -1\n",
        "\n",
        "    if K.image_data_format() == \"channels_first\":\n",
        "      inputShape = (depth, height, width)\n",
        "      chanDim = 1\n",
        "\n",
        "    \n",
        "    # CONV => RELU => POOL\n",
        "    # 32 filter dengan kernel 3x3\n",
        "    model.add(Conv2D(32, (3, 3), padding=\"same\",\n",
        "      input_shape=inputShape))\n",
        "    model.add(Activation(\"relu\"))\n",
        "    model.add(BatchNormalization(axis=chanDim))\n",
        "    model.add(MaxPooling2D(pool_size=(3, 3)))\n",
        "    model.add(Dropout(0.25))\n",
        "  \n",
        "    # (CONV => RELU) * 2 => POOL\n",
        "    model.add(Conv2D(64, (3, 3), padding=\"same\"))\n",
        "    model.add(Activation(\"relu\"))\n",
        "    model.add(BatchNormalization(axis=chanDim))\n",
        "    model.add(Conv2D(64, (3, 3), padding=\"same\"))\n",
        "    model.add(Activation(\"relu\"))\n",
        "    model.add(BatchNormalization(axis=chanDim))\n",
        "    model.add(MaxPooling2D(pool_size=(2, 2)))\n",
        "    model.add(Dropout(0.25))\n",
        "  \n",
        "      # (CONV => RELU) * 2 => POOL\n",
        "    model.add(Conv2D(128, (3, 3), padding=\"same\"))\n",
        "    model.add(Activation(\"relu\"))\n",
        "    model.add(BatchNormalization(axis=chanDim))\n",
        "    model.add(Conv2D(128, (3, 3), padding=\"same\"))\n",
        "    model.add(Activation(\"relu\"))\n",
        "    model.add(BatchNormalization(axis=chanDim))\n",
        "    model.add(MaxPooling2D(pool_size=(2, 2)))\n",
        "    model.add(Dropout(0.25))\n",
        "\n",
        "    # first (and only) set of FC => RELU layers\n",
        "    model.add(Flatten())\n",
        "    model.add(Dense(1024))\n",
        "    model.add(Activation(\"relu\"))\n",
        "    model.add(BatchNormalization())\n",
        "    model.add(Dropout(0.5))\n",
        "    # use a *softmax* activation for single-label classification\n",
        "    # and *sigmoid* activation for multi-label classification\n",
        "    model.add(Dense(classes))\n",
        "    model.add(Activation(finalAct))\n",
        "    \n",
        "    # return the constructed network architecture\n",
        "    return model"
      ],
      "execution_count": 0,
      "outputs": []
    },
    {
      "cell_type": "markdown",
      "metadata": {
        "id": "otyCWSG9wAHq",
        "colab_type": "text"
      },
      "source": [
        "Untuk training"
      ]
    },
    {
      "cell_type": "code",
      "metadata": {
        "id": "jGfEpA3zv4Sj",
        "colab_type": "code",
        "colab": {}
      },
      "source": [
        "import matplotlib\n",
        "matplotlib.use(\"Agg\")\n",
        "from tensorflow.keras.preprocessing.image import ImageDataGenerator\n",
        "from tensorflow.keras.optimizers import Adam\n",
        "from tensorflow.keras.preprocessing.image import img_to_array\n",
        "from sklearn.preprocessing import LabelBinarizer\n",
        "from sklearn.model_selection import train_test_split\n",
        "import matplotlib.pyplot as plt\n",
        "from imutils import paths\n",
        "import numpy as np\n",
        "import argparse\n",
        "import random\n",
        "import pickle\n",
        "import cv2\n",
        "import os"
      ],
      "execution_count": 0,
      "outputs": []
    },
    {
      "cell_type": "code",
      "metadata": {
        "id": "nohzAq1pwKZj",
        "colab_type": "code",
        "colab": {}
      },
      "source": [
        "EPOCHS = 200\n",
        "INIT_LR = 1e-3\n",
        "BS = 32\n",
        "IMAGE_DIMS = (96, 96, 3)\n"
      ],
      "execution_count": 0,
      "outputs": []
    },
    {
      "cell_type": "code",
      "metadata": {
        "id": "p4MpNKpBwNRd",
        "colab_type": "code",
        "colab": {}
      },
      "source": [
        "imagePaths = sorted(list(paths.list_images(train_dir)))\n",
        "random.seed(42)\n",
        "random.shuffle(imagePaths)\n",
        "\n",
        "data = []\n",
        "labels = []"
      ],
      "execution_count": 0,
      "outputs": []
    },
    {
      "cell_type": "code",
      "metadata": {
        "id": "RZJGSUCCw85s",
        "colab_type": "code",
        "colab": {}
      },
      "source": [
        "if not os.path.isfile('processed_data.npy') and not os.path.isfile('processed_labels.npy'):\n",
        "  for (i, imagePath) in enumerate(imagePaths):\n",
        "      \n",
        "    image = cv2.imread(imagePath)\n",
        "    image = cv2.resize(image, (IMAGE_DIMS[1], IMAGE_DIMS[0]))\n",
        "    image = img_to_array(image)\n",
        "    data.append(image)\n",
        "\n",
        "    l = label = imagePath.split(os.path.sep)[-2]\n",
        "    labels.append(l)\n",
        "    if i > 0 and i % 500 == 0:\n",
        "        print(\"[INFO] processed {}/{}\".format(i, len(imagePaths)))\n",
        "\n",
        "  np.save('processed_data.npy', data)\n",
        "  np.save('processed_labels.npy', labels)"
      ],
      "execution_count": 0,
      "outputs": []
    },
    {
      "cell_type": "code",
      "metadata": {
        "id": "-GGXkoGxE_0S",
        "colab_type": "code",
        "colab": {}
      },
      "source": [
        "data = np.load('processed_data.npy')\n",
        "labels = np.load('processed_labels.npy')"
      ],
      "execution_count": 0,
      "outputs": []
    },
    {
      "cell_type": "code",
      "metadata": {
        "id": "A921tV4vyP5j",
        "colab_type": "code",
        "outputId": "1f24eb97-1ca1-4dd4-d6d3-de802897bdf1",
        "colab": {
          "base_uri": "https://localhost:8080/",
          "height": 52
        }
      },
      "source": [
        "# scale the raw pixel intensities to the range [0, 1]\n",
        "data = np.array(data, dtype=\"float\") / 255.0\n",
        "labels = np.array(labels)\n",
        "print(\"[INFO] data matrix: {:.2f}MB\".format(\tdata.nbytes / (1024 * 1000.0)))\n",
        "# partition the data into training and testing splits using 80% of\n",
        "# the data for training and the remaining 20% for testing\n",
        "(trainX, testX, trainY, testY) = train_test_split(data,\n",
        "\tlabels, test_size=0.3, random_state=42)\n",
        "\n",
        "print('x_train: {}, y_train: {}, x_val: {}, y_val: {}'\n",
        "      .format(trainX.shape, trainY.shape, testX.shape, testY.shape))"
      ],
      "execution_count": 108,
      "outputs": [
        {
          "output_type": "stream",
          "text": [
            "[INFO] data matrix: 792.07MB\n",
            "x_train: (2566, 96, 96, 3), y_train: (2566,), x_val: (1101, 96, 96, 3), y_val: (1101,)\n"
          ],
          "name": "stdout"
        }
      ]
    },
    {
      "cell_type": "code",
      "metadata": {
        "id": "bDabDX6E5OnX",
        "colab_type": "code",
        "colab": {}
      },
      "source": [
        "aug = ImageDataGenerator(rotation_range=25, width_shift_range=0.1,\n",
        "\theight_shift_range=0.1, shear_range=0.2, zoom_range=0.2,\n",
        "\thorizontal_flip=True, fill_mode=\"nearest\")"
      ],
      "execution_count": 0,
      "outputs": []
    },
    {
      "cell_type": "code",
      "metadata": {
        "id": "UsZd3vc45em5",
        "colab_type": "code",
        "outputId": "d75bfa5f-015e-403f-8db3-baff3cedcd6d",
        "colab": {
          "base_uri": "https://localhost:8080/",
          "height": 1000
        }
      },
      "source": [
        "print(\"[INFO] compiling model...\")\n",
        "model = SmallerVGGNet.build(\n",
        "    width=IMAGE_DIMS[1],\n",
        "    height=IMAGE_DIMS[0],\n",
        "    depth=IMAGE_DIMS[2],\n",
        "    classes=len(lb.classes_))\n",
        "\n",
        "opt = Adam(lr=INIT_LR, decay=INIT_LR / EPOCHS)\n",
        "\n",
        "model.compile(\n",
        "    loss=\"categorical_crossentropy\",\n",
        "    optimizer=opt,\n",
        "    metrics=[\"accuracy\"])\n",
        "model.summary()"
      ],
      "execution_count": 110,
      "outputs": [
        {
          "output_type": "stream",
          "text": [
            "[INFO] compiling model...\n",
            "_________________________________________________________________\n",
            "Layer (type)                 Output Shape              Param #   \n",
            "=================================================================\n",
            "conv2d_15 (Conv2D)           (None, 96, 96, 32)        896       \n",
            "_________________________________________________________________\n",
            "activation_21 (Activation)   (None, 96, 96, 32)        0         \n",
            "_________________________________________________________________\n",
            "batch_normalization_18 (Batc (None, 96, 96, 32)        128       \n",
            "_________________________________________________________________\n",
            "max_pooling2d_9 (MaxPooling2 (None, 32, 32, 32)        0         \n",
            "_________________________________________________________________\n",
            "dropout_12 (Dropout)         (None, 32, 32, 32)        0         \n",
            "_________________________________________________________________\n",
            "conv2d_16 (Conv2D)           (None, 32, 32, 64)        18496     \n",
            "_________________________________________________________________\n",
            "activation_22 (Activation)   (None, 32, 32, 64)        0         \n",
            "_________________________________________________________________\n",
            "batch_normalization_19 (Batc (None, 32, 32, 64)        256       \n",
            "_________________________________________________________________\n",
            "conv2d_17 (Conv2D)           (None, 32, 32, 64)        36928     \n",
            "_________________________________________________________________\n",
            "activation_23 (Activation)   (None, 32, 32, 64)        0         \n",
            "_________________________________________________________________\n",
            "batch_normalization_20 (Batc (None, 32, 32, 64)        256       \n",
            "_________________________________________________________________\n",
            "max_pooling2d_10 (MaxPooling (None, 16, 16, 64)        0         \n",
            "_________________________________________________________________\n",
            "dropout_13 (Dropout)         (None, 16, 16, 64)        0         \n",
            "_________________________________________________________________\n",
            "conv2d_18 (Conv2D)           (None, 16, 16, 128)       73856     \n",
            "_________________________________________________________________\n",
            "activation_24 (Activation)   (None, 16, 16, 128)       0         \n",
            "_________________________________________________________________\n",
            "batch_normalization_21 (Batc (None, 16, 16, 128)       512       \n",
            "_________________________________________________________________\n",
            "conv2d_19 (Conv2D)           (None, 16, 16, 128)       147584    \n",
            "_________________________________________________________________\n",
            "activation_25 (Activation)   (None, 16, 16, 128)       0         \n",
            "_________________________________________________________________\n",
            "batch_normalization_22 (Batc (None, 16, 16, 128)       512       \n",
            "_________________________________________________________________\n",
            "max_pooling2d_11 (MaxPooling (None, 8, 8, 128)         0         \n",
            "_________________________________________________________________\n",
            "dropout_14 (Dropout)         (None, 8, 8, 128)         0         \n",
            "_________________________________________________________________\n",
            "flatten_3 (Flatten)          (None, 8192)              0         \n",
            "_________________________________________________________________\n",
            "dense_6 (Dense)              (None, 1024)              8389632   \n",
            "_________________________________________________________________\n",
            "activation_26 (Activation)   (None, 1024)              0         \n",
            "_________________________________________________________________\n",
            "batch_normalization_23 (Batc (None, 1024)              4096      \n",
            "_________________________________________________________________\n",
            "dropout_15 (Dropout)         (None, 1024)              0         \n",
            "_________________________________________________________________\n",
            "dense_7 (Dense)              (None, 167)               171175    \n",
            "_________________________________________________________________\n",
            "activation_27 (Activation)   (None, 167)               0         \n",
            "=================================================================\n",
            "Total params: 8,844,327\n",
            "Trainable params: 8,841,447\n",
            "Non-trainable params: 2,880\n",
            "_________________________________________________________________\n"
          ],
          "name": "stdout"
        }
      ]
    },
    {
      "cell_type": "code",
      "metadata": {
        "id": "Xrj_kT1xvicG",
        "colab_type": "code",
        "colab": {
          "base_uri": "https://localhost:8080/",
          "height": 356
        },
        "outputId": "a6542ec5-3475-4c21-8291-93dfb223f219"
      },
      "source": [
        "!pip install tensorflow==1.11.0\n",
        "import tensorflow as tf\n",
        "print(tf.__version__)"
      ],
      "execution_count": 111,
      "outputs": [
        {
          "output_type": "stream",
          "text": [
            "Requirement already satisfied: tensorflow==1.11.0 in /usr/local/lib/python3.6/dist-packages (1.11.0)\n",
            "Requirement already satisfied: absl-py>=0.1.6 in /usr/local/lib/python3.6/dist-packages (from tensorflow==1.11.0) (0.9.0)\n",
            "Requirement already satisfied: six>=1.10.0 in /usr/local/lib/python3.6/dist-packages (from tensorflow==1.11.0) (1.12.0)\n",
            "Requirement already satisfied: keras-preprocessing>=1.0.3 in /usr/local/lib/python3.6/dist-packages (from tensorflow==1.11.0) (1.1.0)\n",
            "Requirement already satisfied: grpcio>=1.8.6 in /usr/local/lib/python3.6/dist-packages (from tensorflow==1.11.0) (1.28.1)\n",
            "Requirement already satisfied: protobuf>=3.6.0 in /usr/local/lib/python3.6/dist-packages (from tensorflow==1.11.0) (3.10.0)\n",
            "Requirement already satisfied: wheel>=0.26 in /usr/local/lib/python3.6/dist-packages (from tensorflow==1.11.0) (0.34.2)\n",
            "Requirement already satisfied: keras-applications>=1.0.5 in /usr/local/lib/python3.6/dist-packages (from tensorflow==1.11.0) (1.0.8)\n",
            "Requirement already satisfied: gast>=0.2.0 in /usr/local/lib/python3.6/dist-packages (from tensorflow==1.11.0) (0.3.3)\n",
            "Requirement already satisfied: setuptools<=39.1.0 in /usr/local/lib/python3.6/dist-packages (from tensorflow==1.11.0) (39.1.0)\n",
            "Requirement already satisfied: termcolor>=1.1.0 in /usr/local/lib/python3.6/dist-packages (from tensorflow==1.11.0) (1.1.0)\n",
            "Requirement already satisfied: tensorboard<1.12.0,>=1.11.0 in /usr/local/lib/python3.6/dist-packages (from tensorflow==1.11.0) (1.11.0)\n",
            "Requirement already satisfied: numpy>=1.13.3 in /usr/local/lib/python3.6/dist-packages (from tensorflow==1.11.0) (1.18.2)\n",
            "Requirement already satisfied: astor>=0.6.0 in /usr/local/lib/python3.6/dist-packages (from tensorflow==1.11.0) (0.8.1)\n",
            "Requirement already satisfied: h5py in /usr/local/lib/python3.6/dist-packages (from keras-applications>=1.0.5->tensorflow==1.11.0) (2.10.0)\n",
            "Requirement already satisfied: werkzeug>=0.11.10 in /usr/local/lib/python3.6/dist-packages (from tensorboard<1.12.0,>=1.11.0->tensorflow==1.11.0) (1.0.1)\n",
            "Requirement already satisfied: markdown>=2.6.8 in /usr/local/lib/python3.6/dist-packages (from tensorboard<1.12.0,>=1.11.0->tensorflow==1.11.0) (3.2.1)\n",
            "1.11.0\n"
          ],
          "name": "stdout"
        }
      ]
    },
    {
      "cell_type": "code",
      "metadata": {
        "id": "grAU5VhDwUpT",
        "colab_type": "code",
        "colab": {
          "base_uri": "https://localhost:8080/",
          "height": 34
        },
        "outputId": "2f51bada-d609-4cdf-eb54-605ff9df16c3"
      },
      "source": [
        "tf.__version__"
      ],
      "execution_count": 112,
      "outputs": [
        {
          "output_type": "execute_result",
          "data": {
            "text/plain": [
              "'1.11.0'"
            ]
          },
          "metadata": {
            "tags": []
          },
          "execution_count": 112
        }
      ]
    },
    {
      "cell_type": "code",
      "metadata": {
        "id": "TGcw0fTK-D2Q",
        "colab_type": "code",
        "colab": {
          "base_uri": "https://localhost:8080/",
          "height": 34
        },
        "outputId": "ae806780-a3ee-4185-8ad3-453b0855699a"
      },
      "source": [
        "import os\n",
        "os.environ['KERAS_BACKEND'] = 'theano'\n",
        "import keras as ks"
      ],
      "execution_count": 114,
      "outputs": [
        {
          "output_type": "stream",
          "text": [
            "Using Theano backend.\n"
          ],
          "name": "stderr"
        }
      ]
    },
    {
      "cell_type": "code",
      "metadata": {
        "id": "QT0IgZabpug6",
        "colab_type": "code",
        "colab": {
          "base_uri": "https://localhost:8080/",
          "height": 763
        },
        "outputId": "d2104ece-d20a-4371-c974-4085f47cb03d"
      },
      "source": [
        "tpu_model = tf.contrib.tpu.keras_to_tpu_model(\n",
        "    model,\n",
        "    strategy=tf.contrib.tpu.TPUDistributionStrategy(\n",
        "        tf.contrib.cluster_resolver.TPUClusterResolver(tpu='grpc://' + os.environ['COLAB_TPU_ADDR'])\n",
        "    )\n",
        ")"
      ],
      "execution_count": 115,
      "outputs": [
        {
          "output_type": "stream",
          "text": [
            "INFO:tensorflow:Querying Tensorflow master (b'grpc://10.27.235.234:8470') for TPU system metadata.\n",
            "INFO:tensorflow:Found TPU system:\n",
            "INFO:tensorflow:*** Num TPU Cores: 8\n",
            "INFO:tensorflow:*** Num TPU Workers: 1\n",
            "INFO:tensorflow:*** Num TPU Cores Per Worker: 8\n",
            "INFO:tensorflow:*** Available Device: _DeviceAttributes(/job:worker/replica:0/task:0/device:CPU:0, CPU, -1, 9188806567086031006)\n",
            "INFO:tensorflow:*** Available Device: _DeviceAttributes(/job:worker/replica:0/task:0/device:XLA_CPU:0, XLA_CPU, 17179869184, 17376295210482747412)\n",
            "INFO:tensorflow:*** Available Device: _DeviceAttributes(/job:worker/replica:0/task:0/device:TPU:0, TPU, 17179869184, 5293300858708182431)\n",
            "INFO:tensorflow:*** Available Device: _DeviceAttributes(/job:worker/replica:0/task:0/device:TPU:1, TPU, 17179869184, 5530814211612836741)\n",
            "INFO:tensorflow:*** Available Device: _DeviceAttributes(/job:worker/replica:0/task:0/device:TPU:2, TPU, 17179869184, 15588882759878276906)\n",
            "INFO:tensorflow:*** Available Device: _DeviceAttributes(/job:worker/replica:0/task:0/device:TPU:3, TPU, 17179869184, 10875848799052319648)\n",
            "INFO:tensorflow:*** Available Device: _DeviceAttributes(/job:worker/replica:0/task:0/device:TPU:4, TPU, 17179869184, 5111544837650738003)\n",
            "INFO:tensorflow:*** Available Device: _DeviceAttributes(/job:worker/replica:0/task:0/device:TPU:5, TPU, 17179869184, 11140224057739012610)\n",
            "INFO:tensorflow:*** Available Device: _DeviceAttributes(/job:worker/replica:0/task:0/device:TPU:6, TPU, 17179869184, 6656337986835844313)\n",
            "INFO:tensorflow:*** Available Device: _DeviceAttributes(/job:worker/replica:0/task:0/device:TPU:7, TPU, 17179869184, 419623255987436959)\n",
            "INFO:tensorflow:*** Available Device: _DeviceAttributes(/job:worker/replica:0/task:0/device:TPU_SYSTEM:0, TPU_SYSTEM, 8589934592, 11011005758529871813)\n",
            "WARNING:tensorflow:tpu_model (from tensorflow.contrib.tpu.python.tpu.keras_support) is experimental and may change or be removed at any time, and without warning.\n"
          ],
          "name": "stdout"
        },
        {
          "output_type": "error",
          "ename": "ValueError",
          "evalue": "ignored",
          "traceback": [
            "\u001b[0;31m---------------------------------------------------------------------------\u001b[0m",
            "\u001b[0;31mValueError\u001b[0m                                Traceback (most recent call last)",
            "\u001b[0;32m/usr/local/lib/python3.6/dist-packages/tensorflow/python/client/session.py\u001b[0m in \u001b[0;36m__init__\u001b[0;34m(self, fetches, contraction_fn)\u001b[0m\n\u001b[1;32m    283\u001b[0m         self._unique_fetches.append(ops.get_default_graph().as_graph_element(\n\u001b[0;32m--> 284\u001b[0;31m             fetch, allow_tensor=True, allow_operation=True))\n\u001b[0m\u001b[1;32m    285\u001b[0m       \u001b[0;32mexcept\u001b[0m \u001b[0mTypeError\u001b[0m \u001b[0;32mas\u001b[0m \u001b[0me\u001b[0m\u001b[0;34m:\u001b[0m\u001b[0;34m\u001b[0m\u001b[0;34m\u001b[0m\u001b[0m\n",
            "\u001b[0;32m/usr/local/lib/python3.6/dist-packages/tensorflow/python/framework/ops.py\u001b[0m in \u001b[0;36mas_graph_element\u001b[0;34m(self, obj, allow_tensor, allow_operation)\u001b[0m\n\u001b[1;32m   3487\u001b[0m     \u001b[0;32mwith\u001b[0m \u001b[0mself\u001b[0m\u001b[0;34m.\u001b[0m\u001b[0m_lock\u001b[0m\u001b[0;34m:\u001b[0m\u001b[0;34m\u001b[0m\u001b[0;34m\u001b[0m\u001b[0m\n\u001b[0;32m-> 3488\u001b[0;31m       \u001b[0;32mreturn\u001b[0m \u001b[0mself\u001b[0m\u001b[0;34m.\u001b[0m\u001b[0m_as_graph_element_locked\u001b[0m\u001b[0;34m(\u001b[0m\u001b[0mobj\u001b[0m\u001b[0;34m,\u001b[0m \u001b[0mallow_tensor\u001b[0m\u001b[0;34m,\u001b[0m \u001b[0mallow_operation\u001b[0m\u001b[0;34m)\u001b[0m\u001b[0;34m\u001b[0m\u001b[0;34m\u001b[0m\u001b[0m\n\u001b[0m\u001b[1;32m   3489\u001b[0m \u001b[0;34m\u001b[0m\u001b[0m\n",
            "\u001b[0;32m/usr/local/lib/python3.6/dist-packages/tensorflow/python/framework/ops.py\u001b[0m in \u001b[0;36m_as_graph_element_locked\u001b[0;34m(self, obj, allow_tensor, allow_operation)\u001b[0m\n\u001b[1;32m   3566\u001b[0m       \u001b[0;32mif\u001b[0m \u001b[0mobj\u001b[0m\u001b[0;34m.\u001b[0m\u001b[0mgraph\u001b[0m \u001b[0;32mis\u001b[0m \u001b[0;32mnot\u001b[0m \u001b[0mself\u001b[0m\u001b[0;34m:\u001b[0m\u001b[0;34m\u001b[0m\u001b[0;34m\u001b[0m\u001b[0m\n\u001b[0;32m-> 3567\u001b[0;31m         \u001b[0;32mraise\u001b[0m \u001b[0mValueError\u001b[0m\u001b[0;34m(\u001b[0m\u001b[0;34m\"Tensor %s is not an element of this graph.\"\u001b[0m \u001b[0;34m%\u001b[0m \u001b[0mobj\u001b[0m\u001b[0;34m)\u001b[0m\u001b[0;34m\u001b[0m\u001b[0;34m\u001b[0m\u001b[0m\n\u001b[0m\u001b[1;32m   3568\u001b[0m       \u001b[0;32mreturn\u001b[0m \u001b[0mobj\u001b[0m\u001b[0;34m\u001b[0m\u001b[0;34m\u001b[0m\u001b[0m\n",
            "\u001b[0;31mValueError\u001b[0m: Tensor Tensor(\"conv2d_15/kernel/Read/ReadVariableOp:0\", shape=(3, 3, 3, 32), dtype=float32) is not an element of this graph.",
            "\nDuring handling of the above exception, another exception occurred:\n",
            "\u001b[0;31mValueError\u001b[0m                                Traceback (most recent call last)",
            "\u001b[0;32m<ipython-input-115-c53525619e78>\u001b[0m in \u001b[0;36m<module>\u001b[0;34m()\u001b[0m\n\u001b[1;32m      2\u001b[0m     \u001b[0mmodel\u001b[0m\u001b[0;34m,\u001b[0m\u001b[0;34m\u001b[0m\u001b[0;34m\u001b[0m\u001b[0m\n\u001b[1;32m      3\u001b[0m     strategy=tf.contrib.tpu.TPUDistributionStrategy(\n\u001b[0;32m----> 4\u001b[0;31m         \u001b[0mtf\u001b[0m\u001b[0;34m.\u001b[0m\u001b[0mcontrib\u001b[0m\u001b[0;34m.\u001b[0m\u001b[0mcluster_resolver\u001b[0m\u001b[0;34m.\u001b[0m\u001b[0mTPUClusterResolver\u001b[0m\u001b[0;34m(\u001b[0m\u001b[0mtpu\u001b[0m\u001b[0;34m=\u001b[0m\u001b[0;34m'grpc://'\u001b[0m \u001b[0;34m+\u001b[0m \u001b[0mos\u001b[0m\u001b[0;34m.\u001b[0m\u001b[0menviron\u001b[0m\u001b[0;34m[\u001b[0m\u001b[0;34m'COLAB_TPU_ADDR'\u001b[0m\u001b[0;34m]\u001b[0m\u001b[0;34m)\u001b[0m\u001b[0;34m\u001b[0m\u001b[0;34m\u001b[0m\u001b[0m\n\u001b[0m\u001b[1;32m      5\u001b[0m     )\n\u001b[1;32m      6\u001b[0m )\n",
            "\u001b[0;32m/usr/local/lib/python3.6/dist-packages/tensorflow/contrib/framework/python/framework/experimental.py\u001b[0m in \u001b[0;36mnew_func\u001b[0;34m(*args, **kwargs)\u001b[0m\n\u001b[1;32m     62\u001b[0m         \u001b[0;34m'any time, and without warning.'\u001b[0m\u001b[0;34m,\u001b[0m\u001b[0;34m\u001b[0m\u001b[0;34m\u001b[0m\u001b[0m\n\u001b[1;32m     63\u001b[0m         decorator_utils.get_qualified_name(func), func.__module__)\n\u001b[0;32m---> 64\u001b[0;31m     \u001b[0;32mreturn\u001b[0m \u001b[0mfunc\u001b[0m\u001b[0;34m(\u001b[0m\u001b[0;34m*\u001b[0m\u001b[0margs\u001b[0m\u001b[0;34m,\u001b[0m \u001b[0;34m**\u001b[0m\u001b[0mkwargs\u001b[0m\u001b[0;34m)\u001b[0m\u001b[0;34m\u001b[0m\u001b[0;34m\u001b[0m\u001b[0m\n\u001b[0m\u001b[1;32m     65\u001b[0m   new_func.__doc__ = _add_experimental_function_notice_to_docstring(\n\u001b[1;32m     66\u001b[0m       func.__doc__)\n",
            "\u001b[0;32m/usr/local/lib/python3.6/dist-packages/tensorflow/contrib/tpu/python/tpu/keras_support.py\u001b[0m in \u001b[0;36mtpu_model\u001b[0;34m(model, strategy)\u001b[0m\n\u001b[1;32m   1888\u001b[0m   \"\"\"\n\u001b[1;32m   1889\u001b[0m   \u001b[0;31m# Force initialization of the CPU model.\u001b[0m\u001b[0;34m\u001b[0m\u001b[0;34m\u001b[0m\u001b[0;34m\u001b[0m\u001b[0m\n\u001b[0;32m-> 1890\u001b[0;31m   \u001b[0mmodel\u001b[0m\u001b[0;34m.\u001b[0m\u001b[0mget_weights\u001b[0m\u001b[0;34m(\u001b[0m\u001b[0;34m)\u001b[0m\u001b[0;34m\u001b[0m\u001b[0;34m\u001b[0m\u001b[0m\n\u001b[0m\u001b[1;32m   1891\u001b[0m   \u001b[0mmodel\u001b[0m\u001b[0;34m.\u001b[0m\u001b[0mreset_states\u001b[0m\u001b[0;34m(\u001b[0m\u001b[0;34m)\u001b[0m\u001b[0;34m\u001b[0m\u001b[0;34m\u001b[0m\u001b[0m\n\u001b[1;32m   1892\u001b[0m \u001b[0;34m\u001b[0m\u001b[0m\n",
            "\u001b[0;32m/usr/local/lib/python3.6/dist-packages/tensorflow/python/keras/engine/network.py\u001b[0m in \u001b[0;36mget_weights\u001b[0;34m(self)\u001b[0m\n\u001b[1;32m    481\u001b[0m     \u001b[0;32mfor\u001b[0m \u001b[0mlayer\u001b[0m \u001b[0;32min\u001b[0m \u001b[0mself\u001b[0m\u001b[0;34m.\u001b[0m\u001b[0mlayers\u001b[0m\u001b[0;34m:\u001b[0m\u001b[0;34m\u001b[0m\u001b[0;34m\u001b[0m\u001b[0m\n\u001b[1;32m    482\u001b[0m       \u001b[0mweights\u001b[0m \u001b[0;34m+=\u001b[0m \u001b[0mlayer\u001b[0m\u001b[0;34m.\u001b[0m\u001b[0mweights\u001b[0m\u001b[0;34m\u001b[0m\u001b[0;34m\u001b[0m\u001b[0m\n\u001b[0;32m--> 483\u001b[0;31m     \u001b[0;32mreturn\u001b[0m \u001b[0mbackend\u001b[0m\u001b[0;34m.\u001b[0m\u001b[0mbatch_get_value\u001b[0m\u001b[0;34m(\u001b[0m\u001b[0mweights\u001b[0m\u001b[0;34m)\u001b[0m\u001b[0;34m\u001b[0m\u001b[0;34m\u001b[0m\u001b[0m\n\u001b[0m\u001b[1;32m    484\u001b[0m \u001b[0;34m\u001b[0m\u001b[0m\n\u001b[1;32m    485\u001b[0m   \u001b[0;32mdef\u001b[0m \u001b[0mset_weights\u001b[0m\u001b[0;34m(\u001b[0m\u001b[0mself\u001b[0m\u001b[0;34m,\u001b[0m \u001b[0mweights\u001b[0m\u001b[0;34m)\u001b[0m\u001b[0;34m:\u001b[0m\u001b[0;34m\u001b[0m\u001b[0;34m\u001b[0m\u001b[0m\n",
            "\u001b[0;32m/usr/local/lib/python3.6/dist-packages/tensorflow/python/keras/backend.py\u001b[0m in \u001b[0;36mbatch_get_value\u001b[0;34m(tensors)\u001b[0m\n\u001b[1;32m   2715\u001b[0m     \u001b[0;32mreturn\u001b[0m \u001b[0;34m[\u001b[0m\u001b[0mx\u001b[0m\u001b[0;34m.\u001b[0m\u001b[0mnumpy\u001b[0m\u001b[0;34m(\u001b[0m\u001b[0;34m)\u001b[0m \u001b[0;32mfor\u001b[0m \u001b[0mx\u001b[0m \u001b[0;32min\u001b[0m \u001b[0mtensors\u001b[0m\u001b[0;34m]\u001b[0m\u001b[0;34m\u001b[0m\u001b[0;34m\u001b[0m\u001b[0m\n\u001b[1;32m   2716\u001b[0m   \u001b[0;32mif\u001b[0m \u001b[0mtensors\u001b[0m\u001b[0;34m:\u001b[0m\u001b[0;34m\u001b[0m\u001b[0;34m\u001b[0m\u001b[0m\n\u001b[0;32m-> 2717\u001b[0;31m     \u001b[0;32mreturn\u001b[0m \u001b[0mget_session\u001b[0m\u001b[0;34m(\u001b[0m\u001b[0;34m)\u001b[0m\u001b[0;34m.\u001b[0m\u001b[0mrun\u001b[0m\u001b[0;34m(\u001b[0m\u001b[0mtensors\u001b[0m\u001b[0;34m)\u001b[0m\u001b[0;34m\u001b[0m\u001b[0;34m\u001b[0m\u001b[0m\n\u001b[0m\u001b[1;32m   2718\u001b[0m   \u001b[0;32melse\u001b[0m\u001b[0;34m:\u001b[0m\u001b[0;34m\u001b[0m\u001b[0;34m\u001b[0m\u001b[0m\n\u001b[1;32m   2719\u001b[0m     \u001b[0;32mreturn\u001b[0m \u001b[0;34m[\u001b[0m\u001b[0;34m]\u001b[0m\u001b[0;34m\u001b[0m\u001b[0;34m\u001b[0m\u001b[0m\n",
            "\u001b[0;32m/usr/local/lib/python3.6/dist-packages/tensorflow/python/client/session.py\u001b[0m in \u001b[0;36mrun\u001b[0;34m(self, fetches, feed_dict, options, run_metadata)\u001b[0m\n\u001b[1;32m    885\u001b[0m     \u001b[0;32mtry\u001b[0m\u001b[0;34m:\u001b[0m\u001b[0;34m\u001b[0m\u001b[0;34m\u001b[0m\u001b[0m\n\u001b[1;32m    886\u001b[0m       result = self._run(None, fetches, feed_dict, options_ptr,\n\u001b[0;32m--> 887\u001b[0;31m                          run_metadata_ptr)\n\u001b[0m\u001b[1;32m    888\u001b[0m       \u001b[0;32mif\u001b[0m \u001b[0mrun_metadata\u001b[0m\u001b[0;34m:\u001b[0m\u001b[0;34m\u001b[0m\u001b[0;34m\u001b[0m\u001b[0m\n\u001b[1;32m    889\u001b[0m         \u001b[0mproto_data\u001b[0m \u001b[0;34m=\u001b[0m \u001b[0mtf_session\u001b[0m\u001b[0;34m.\u001b[0m\u001b[0mTF_GetBuffer\u001b[0m\u001b[0;34m(\u001b[0m\u001b[0mrun_metadata_ptr\u001b[0m\u001b[0;34m)\u001b[0m\u001b[0;34m\u001b[0m\u001b[0;34m\u001b[0m\u001b[0m\n",
            "\u001b[0;32m/usr/local/lib/python3.6/dist-packages/tensorflow/python/client/session.py\u001b[0m in \u001b[0;36m_run\u001b[0;34m(self, handle, fetches, feed_dict, options, run_metadata)\u001b[0m\n\u001b[1;32m   1093\u001b[0m     \u001b[0;31m# Create a fetch handler to take care of the structure of fetches.\u001b[0m\u001b[0;34m\u001b[0m\u001b[0;34m\u001b[0m\u001b[0;34m\u001b[0m\u001b[0m\n\u001b[1;32m   1094\u001b[0m     fetch_handler = _FetchHandler(\n\u001b[0;32m-> 1095\u001b[0;31m         self._graph, fetches, feed_dict_tensor, feed_handles=feed_handles)\n\u001b[0m\u001b[1;32m   1096\u001b[0m \u001b[0;34m\u001b[0m\u001b[0m\n\u001b[1;32m   1097\u001b[0m     \u001b[0;31m# Run request and get response.\u001b[0m\u001b[0;34m\u001b[0m\u001b[0;34m\u001b[0m\u001b[0;34m\u001b[0m\u001b[0m\n",
            "\u001b[0;32m/usr/local/lib/python3.6/dist-packages/tensorflow/python/client/session.py\u001b[0m in \u001b[0;36m__init__\u001b[0;34m(self, graph, fetches, feeds, feed_handles)\u001b[0m\n\u001b[1;32m    427\u001b[0m     \"\"\"\n\u001b[1;32m    428\u001b[0m     \u001b[0;32mwith\u001b[0m \u001b[0mgraph\u001b[0m\u001b[0;34m.\u001b[0m\u001b[0mas_default\u001b[0m\u001b[0;34m(\u001b[0m\u001b[0;34m)\u001b[0m\u001b[0;34m:\u001b[0m\u001b[0;34m\u001b[0m\u001b[0;34m\u001b[0m\u001b[0m\n\u001b[0;32m--> 429\u001b[0;31m       \u001b[0mself\u001b[0m\u001b[0;34m.\u001b[0m\u001b[0m_fetch_mapper\u001b[0m \u001b[0;34m=\u001b[0m \u001b[0m_FetchMapper\u001b[0m\u001b[0;34m.\u001b[0m\u001b[0mfor_fetch\u001b[0m\u001b[0;34m(\u001b[0m\u001b[0mfetches\u001b[0m\u001b[0;34m)\u001b[0m\u001b[0;34m\u001b[0m\u001b[0;34m\u001b[0m\u001b[0m\n\u001b[0m\u001b[1;32m    430\u001b[0m     \u001b[0mself\u001b[0m\u001b[0;34m.\u001b[0m\u001b[0m_fetches\u001b[0m \u001b[0;34m=\u001b[0m \u001b[0;34m[\u001b[0m\u001b[0;34m]\u001b[0m\u001b[0;34m\u001b[0m\u001b[0;34m\u001b[0m\u001b[0m\n\u001b[1;32m    431\u001b[0m     \u001b[0mself\u001b[0m\u001b[0;34m.\u001b[0m\u001b[0m_targets\u001b[0m \u001b[0;34m=\u001b[0m \u001b[0;34m[\u001b[0m\u001b[0;34m]\u001b[0m\u001b[0;34m\u001b[0m\u001b[0;34m\u001b[0m\u001b[0m\n",
            "\u001b[0;32m/usr/local/lib/python3.6/dist-packages/tensorflow/python/client/session.py\u001b[0m in \u001b[0;36mfor_fetch\u001b[0;34m(fetch)\u001b[0m\n\u001b[1;32m    245\u001b[0m     \u001b[0;32melif\u001b[0m \u001b[0misinstance\u001b[0m\u001b[0;34m(\u001b[0m\u001b[0mfetch\u001b[0m\u001b[0;34m,\u001b[0m \u001b[0;34m(\u001b[0m\u001b[0mlist\u001b[0m\u001b[0;34m,\u001b[0m \u001b[0mtuple\u001b[0m\u001b[0;34m)\u001b[0m\u001b[0;34m)\u001b[0m\u001b[0;34m:\u001b[0m\u001b[0;34m\u001b[0m\u001b[0;34m\u001b[0m\u001b[0m\n\u001b[1;32m    246\u001b[0m       \u001b[0;31m# NOTE(touts): This is also the code path for namedtuples.\u001b[0m\u001b[0;34m\u001b[0m\u001b[0;34m\u001b[0m\u001b[0;34m\u001b[0m\u001b[0m\n\u001b[0;32m--> 247\u001b[0;31m       \u001b[0;32mreturn\u001b[0m \u001b[0m_ListFetchMapper\u001b[0m\u001b[0;34m(\u001b[0m\u001b[0mfetch\u001b[0m\u001b[0;34m)\u001b[0m\u001b[0;34m\u001b[0m\u001b[0;34m\u001b[0m\u001b[0m\n\u001b[0m\u001b[1;32m    248\u001b[0m     \u001b[0;32melif\u001b[0m \u001b[0misinstance\u001b[0m\u001b[0;34m(\u001b[0m\u001b[0mfetch\u001b[0m\u001b[0;34m,\u001b[0m \u001b[0mcollections\u001b[0m\u001b[0;34m.\u001b[0m\u001b[0mMapping\u001b[0m\u001b[0;34m)\u001b[0m\u001b[0;34m:\u001b[0m\u001b[0;34m\u001b[0m\u001b[0;34m\u001b[0m\u001b[0m\n\u001b[1;32m    249\u001b[0m       \u001b[0;32mreturn\u001b[0m \u001b[0m_DictFetchMapper\u001b[0m\u001b[0;34m(\u001b[0m\u001b[0mfetch\u001b[0m\u001b[0;34m)\u001b[0m\u001b[0;34m\u001b[0m\u001b[0;34m\u001b[0m\u001b[0m\n",
            "\u001b[0;32m/usr/local/lib/python3.6/dist-packages/tensorflow/python/client/session.py\u001b[0m in \u001b[0;36m__init__\u001b[0;34m(self, fetches)\u001b[0m\n\u001b[1;32m    352\u001b[0m     \"\"\"\n\u001b[1;32m    353\u001b[0m     \u001b[0mself\u001b[0m\u001b[0;34m.\u001b[0m\u001b[0m_fetch_type\u001b[0m \u001b[0;34m=\u001b[0m \u001b[0mtype\u001b[0m\u001b[0;34m(\u001b[0m\u001b[0mfetches\u001b[0m\u001b[0;34m)\u001b[0m\u001b[0;34m\u001b[0m\u001b[0;34m\u001b[0m\u001b[0m\n\u001b[0;32m--> 354\u001b[0;31m     \u001b[0mself\u001b[0m\u001b[0;34m.\u001b[0m\u001b[0m_mappers\u001b[0m \u001b[0;34m=\u001b[0m \u001b[0;34m[\u001b[0m\u001b[0m_FetchMapper\u001b[0m\u001b[0;34m.\u001b[0m\u001b[0mfor_fetch\u001b[0m\u001b[0;34m(\u001b[0m\u001b[0mfetch\u001b[0m\u001b[0;34m)\u001b[0m \u001b[0;32mfor\u001b[0m \u001b[0mfetch\u001b[0m \u001b[0;32min\u001b[0m \u001b[0mfetches\u001b[0m\u001b[0;34m]\u001b[0m\u001b[0;34m\u001b[0m\u001b[0;34m\u001b[0m\u001b[0m\n\u001b[0m\u001b[1;32m    355\u001b[0m     \u001b[0mself\u001b[0m\u001b[0;34m.\u001b[0m\u001b[0m_unique_fetches\u001b[0m\u001b[0;34m,\u001b[0m \u001b[0mself\u001b[0m\u001b[0;34m.\u001b[0m\u001b[0m_value_indices\u001b[0m \u001b[0;34m=\u001b[0m \u001b[0m_uniquify_fetches\u001b[0m\u001b[0;34m(\u001b[0m\u001b[0mself\u001b[0m\u001b[0;34m.\u001b[0m\u001b[0m_mappers\u001b[0m\u001b[0;34m)\u001b[0m\u001b[0;34m\u001b[0m\u001b[0;34m\u001b[0m\u001b[0m\n\u001b[1;32m    356\u001b[0m \u001b[0;34m\u001b[0m\u001b[0m\n",
            "\u001b[0;32m/usr/local/lib/python3.6/dist-packages/tensorflow/python/client/session.py\u001b[0m in \u001b[0;36m<listcomp>\u001b[0;34m(.0)\u001b[0m\n\u001b[1;32m    352\u001b[0m     \"\"\"\n\u001b[1;32m    353\u001b[0m     \u001b[0mself\u001b[0m\u001b[0;34m.\u001b[0m\u001b[0m_fetch_type\u001b[0m \u001b[0;34m=\u001b[0m \u001b[0mtype\u001b[0m\u001b[0;34m(\u001b[0m\u001b[0mfetches\u001b[0m\u001b[0;34m)\u001b[0m\u001b[0;34m\u001b[0m\u001b[0;34m\u001b[0m\u001b[0m\n\u001b[0;32m--> 354\u001b[0;31m     \u001b[0mself\u001b[0m\u001b[0;34m.\u001b[0m\u001b[0m_mappers\u001b[0m \u001b[0;34m=\u001b[0m \u001b[0;34m[\u001b[0m\u001b[0m_FetchMapper\u001b[0m\u001b[0;34m.\u001b[0m\u001b[0mfor_fetch\u001b[0m\u001b[0;34m(\u001b[0m\u001b[0mfetch\u001b[0m\u001b[0;34m)\u001b[0m \u001b[0;32mfor\u001b[0m \u001b[0mfetch\u001b[0m \u001b[0;32min\u001b[0m \u001b[0mfetches\u001b[0m\u001b[0;34m]\u001b[0m\u001b[0;34m\u001b[0m\u001b[0;34m\u001b[0m\u001b[0m\n\u001b[0m\u001b[1;32m    355\u001b[0m     \u001b[0mself\u001b[0m\u001b[0;34m.\u001b[0m\u001b[0m_unique_fetches\u001b[0m\u001b[0;34m,\u001b[0m \u001b[0mself\u001b[0m\u001b[0;34m.\u001b[0m\u001b[0m_value_indices\u001b[0m \u001b[0;34m=\u001b[0m \u001b[0m_uniquify_fetches\u001b[0m\u001b[0;34m(\u001b[0m\u001b[0mself\u001b[0m\u001b[0;34m.\u001b[0m\u001b[0m_mappers\u001b[0m\u001b[0;34m)\u001b[0m\u001b[0;34m\u001b[0m\u001b[0;34m\u001b[0m\u001b[0m\n\u001b[1;32m    356\u001b[0m \u001b[0;34m\u001b[0m\u001b[0m\n",
            "\u001b[0;32m/usr/local/lib/python3.6/dist-packages/tensorflow/python/client/session.py\u001b[0m in \u001b[0;36mfor_fetch\u001b[0;34m(fetch)\u001b[0m\n\u001b[1;32m    253\u001b[0m         \u001b[0;32mif\u001b[0m \u001b[0misinstance\u001b[0m\u001b[0;34m(\u001b[0m\u001b[0mfetch\u001b[0m\u001b[0;34m,\u001b[0m \u001b[0mtensor_type\u001b[0m\u001b[0;34m)\u001b[0m\u001b[0;34m:\u001b[0m\u001b[0;34m\u001b[0m\u001b[0;34m\u001b[0m\u001b[0m\n\u001b[1;32m    254\u001b[0m           \u001b[0mfetches\u001b[0m\u001b[0;34m,\u001b[0m \u001b[0mcontraction_fn\u001b[0m \u001b[0;34m=\u001b[0m \u001b[0mfetch_fn\u001b[0m\u001b[0;34m(\u001b[0m\u001b[0mfetch\u001b[0m\u001b[0;34m)\u001b[0m\u001b[0;34m\u001b[0m\u001b[0;34m\u001b[0m\u001b[0m\n\u001b[0;32m--> 255\u001b[0;31m           \u001b[0;32mreturn\u001b[0m \u001b[0m_ElementFetchMapper\u001b[0m\u001b[0;34m(\u001b[0m\u001b[0mfetches\u001b[0m\u001b[0;34m,\u001b[0m \u001b[0mcontraction_fn\u001b[0m\u001b[0;34m)\u001b[0m\u001b[0;34m\u001b[0m\u001b[0;34m\u001b[0m\u001b[0m\n\u001b[0m\u001b[1;32m    256\u001b[0m     \u001b[0;31m# Did not find anything.\u001b[0m\u001b[0;34m\u001b[0m\u001b[0;34m\u001b[0m\u001b[0;34m\u001b[0m\u001b[0m\n\u001b[1;32m    257\u001b[0m     raise TypeError('Fetch argument %r has invalid type %r' % (fetch,\n",
            "\u001b[0;32m/usr/local/lib/python3.6/dist-packages/tensorflow/python/client/session.py\u001b[0m in \u001b[0;36m__init__\u001b[0;34m(self, fetches, contraction_fn)\u001b[0m\n\u001b[1;32m    289\u001b[0m       \u001b[0;32mexcept\u001b[0m \u001b[0mValueError\u001b[0m \u001b[0;32mas\u001b[0m \u001b[0me\u001b[0m\u001b[0;34m:\u001b[0m\u001b[0;34m\u001b[0m\u001b[0;34m\u001b[0m\u001b[0m\n\u001b[1;32m    290\u001b[0m         raise ValueError('Fetch argument %r cannot be interpreted as a '\n\u001b[0;32m--> 291\u001b[0;31m                          'Tensor. (%s)' % (fetch, str(e)))\n\u001b[0m\u001b[1;32m    292\u001b[0m       \u001b[0;32mexcept\u001b[0m \u001b[0mKeyError\u001b[0m \u001b[0;32mas\u001b[0m \u001b[0me\u001b[0m\u001b[0;34m:\u001b[0m\u001b[0;34m\u001b[0m\u001b[0;34m\u001b[0m\u001b[0m\n\u001b[1;32m    293\u001b[0m         raise ValueError('Fetch argument %r cannot be interpreted as a '\n",
            "\u001b[0;31mValueError\u001b[0m: Fetch argument <tf.Variable 'conv2d_15/kernel:0' shape=(3, 3, 3, 32) dtype=float32> cannot be interpreted as a Tensor. (Tensor Tensor(\"conv2d_15/kernel/Read/ReadVariableOp:0\", shape=(3, 3, 3, 32), dtype=float32) is not an element of this graph.)"
          ]
        }
      ]
    },
    {
      "cell_type": "code",
      "metadata": {
        "id": "f6rBKlgvrs_-",
        "colab_type": "code",
        "colab": {}
      },
      "source": [
        "tpu_model.compile(\n",
        "    optimizer=tf.train.AdamOptimizer(learning_rate=1e-3, ),\n",
        "    loss=tf.keras.losses.sparse_categorical_crossentropy,\n",
        "    metrics=['sparse_categorical_accuracy']\n",
        ")"
      ],
      "execution_count": 0,
      "outputs": []
    },
    {
      "cell_type": "code",
      "metadata": {
        "id": "zCzXr0XkyS_l",
        "colab_type": "code",
        "colab": {}
      },
      "source": [
        "def train_gen(batch_size):\n",
        "  while True:\n",
        "    offset = np.random.randint(0, trainX.shape[0] - batch_size)\n",
        "    yield trainX[offset:offset+batch_size], trainY[offset:offset + batch_size]"
      ],
      "execution_count": 0,
      "outputs": []
    },
    {
      "cell_type": "code",
      "metadata": {
        "id": "AX1kIGM85uQ4",
        "colab_type": "code",
        "outputId": "b19dfac9-4acd-4e0a-aa62-d2cd65945a41",
        "colab": {
          "base_uri": "https://localhost:8080/",
          "height": 405
        }
      },
      "source": [
        "import time\n",
        "print(\"[INFO] training network...\")\n",
        "start_time = time.time()\n",
        "batch_size=1024\n",
        "history = tpu_model.fit_generator(\n",
        "     aug.flow(trainX, trainY, batch_size=batch_size),\n",
        "    epochs=EPOCHS,\n",
        "    validation_data=(testX, testY),\n",
        "    steps_per_epoch=np.ceil(trainX.shape[0]/batch_size),\n",
        "    verbose=1)\n",
        "print(\"[INFO] Elapsed time : %s seconds\" % (time.time() - start_time))"
      ],
      "execution_count": 117,
      "outputs": [
        {
          "output_type": "stream",
          "text": [
            "[INFO] training network...\n",
            "Epoch 1/200\n"
          ],
          "name": "stdout"
        },
        {
          "output_type": "error",
          "ename": "AssertionError",
          "evalue": "ignored",
          "traceback": [
            "\u001b[0;31m---------------------------------------------------------------------------\u001b[0m",
            "\u001b[0;31mAssertionError\u001b[0m                            Traceback (most recent call last)",
            "\u001b[0;32m<ipython-input-117-7a79b37efbd9>\u001b[0m in \u001b[0;36m<module>\u001b[0;34m()\u001b[0m\n\u001b[1;32m      8\u001b[0m     \u001b[0mvalidation_data\u001b[0m\u001b[0;34m=\u001b[0m\u001b[0;34m(\u001b[0m\u001b[0mtestX\u001b[0m\u001b[0;34m,\u001b[0m \u001b[0mtestY\u001b[0m\u001b[0;34m)\u001b[0m\u001b[0;34m,\u001b[0m\u001b[0;34m\u001b[0m\u001b[0;34m\u001b[0m\u001b[0m\n\u001b[1;32m      9\u001b[0m     \u001b[0msteps_per_epoch\u001b[0m\u001b[0;34m=\u001b[0m\u001b[0mnp\u001b[0m\u001b[0;34m.\u001b[0m\u001b[0mceil\u001b[0m\u001b[0;34m(\u001b[0m\u001b[0mtrainX\u001b[0m\u001b[0;34m.\u001b[0m\u001b[0mshape\u001b[0m\u001b[0;34m[\u001b[0m\u001b[0;36m0\u001b[0m\u001b[0;34m]\u001b[0m\u001b[0;34m/\u001b[0m\u001b[0mbatch_size\u001b[0m\u001b[0;34m)\u001b[0m\u001b[0;34m,\u001b[0m\u001b[0;34m\u001b[0m\u001b[0;34m\u001b[0m\u001b[0m\n\u001b[0;32m---> 10\u001b[0;31m     verbose=1)\n\u001b[0m\u001b[1;32m     11\u001b[0m \u001b[0mprint\u001b[0m\u001b[0;34m(\u001b[0m\u001b[0;34m\"[INFO] Elapsed time : %s seconds\"\u001b[0m \u001b[0;34m%\u001b[0m \u001b[0;34m(\u001b[0m\u001b[0mtime\u001b[0m\u001b[0;34m.\u001b[0m\u001b[0mtime\u001b[0m\u001b[0;34m(\u001b[0m\u001b[0;34m)\u001b[0m \u001b[0;34m-\u001b[0m \u001b[0mstart_time\u001b[0m\u001b[0;34m)\u001b[0m\u001b[0;34m)\u001b[0m\u001b[0;34m\u001b[0m\u001b[0;34m\u001b[0m\u001b[0m\n",
            "\u001b[0;32m/usr/local/lib/python3.6/dist-packages/tensorflow/python/keras/engine/training.py\u001b[0m in \u001b[0;36mfit_generator\u001b[0;34m(self, generator, steps_per_epoch, epochs, verbose, callbacks, validation_data, validation_steps, class_weight, max_queue_size, workers, use_multiprocessing, shuffle, initial_epoch)\u001b[0m\n\u001b[1;32m   2063\u001b[0m         \u001b[0muse_multiprocessing\u001b[0m\u001b[0;34m=\u001b[0m\u001b[0muse_multiprocessing\u001b[0m\u001b[0;34m,\u001b[0m\u001b[0;34m\u001b[0m\u001b[0;34m\u001b[0m\u001b[0m\n\u001b[1;32m   2064\u001b[0m         \u001b[0mshuffle\u001b[0m\u001b[0;34m=\u001b[0m\u001b[0mshuffle\u001b[0m\u001b[0;34m,\u001b[0m\u001b[0;34m\u001b[0m\u001b[0;34m\u001b[0m\u001b[0m\n\u001b[0;32m-> 2065\u001b[0;31m         initial_epoch=initial_epoch)\n\u001b[0m\u001b[1;32m   2066\u001b[0m \u001b[0;34m\u001b[0m\u001b[0m\n\u001b[1;32m   2067\u001b[0m   def evaluate_generator(self,\n",
            "\u001b[0;32m/usr/local/lib/python3.6/dist-packages/tensorflow/python/keras/engine/training_generator.py\u001b[0m in \u001b[0;36mfit_generator\u001b[0;34m(model, generator, steps_per_epoch, epochs, verbose, callbacks, validation_data, validation_steps, class_weight, max_queue_size, workers, use_multiprocessing, shuffle, initial_epoch)\u001b[0m\n\u001b[1;32m    169\u001b[0m \u001b[0;34m\u001b[0m\u001b[0m\n\u001b[1;32m    170\u001b[0m         outs = model.train_on_batch(\n\u001b[0;32m--> 171\u001b[0;31m             x, y, sample_weight=sample_weight, class_weight=class_weight)\n\u001b[0m\u001b[1;32m    172\u001b[0m \u001b[0;34m\u001b[0m\u001b[0m\n\u001b[1;32m    173\u001b[0m         \u001b[0;32mif\u001b[0m \u001b[0;32mnot\u001b[0m \u001b[0misinstance\u001b[0m\u001b[0;34m(\u001b[0m\u001b[0mouts\u001b[0m\u001b[0;34m,\u001b[0m \u001b[0mlist\u001b[0m\u001b[0;34m)\u001b[0m\u001b[0;34m:\u001b[0m\u001b[0;34m\u001b[0m\u001b[0;34m\u001b[0m\u001b[0m\n",
            "\u001b[0;32m/usr/local/lib/python3.6/dist-packages/tensorflow/python/keras/engine/training.py\u001b[0m in \u001b[0;36mtrain_on_batch\u001b[0;34m(self, x, y, sample_weight, class_weight)\u001b[0m\n\u001b[1;32m   1826\u001b[0m \u001b[0;34m\u001b[0m\u001b[0m\n\u001b[1;32m   1827\u001b[0m       \u001b[0mself\u001b[0m\u001b[0;34m.\u001b[0m\u001b[0m_make_train_function\u001b[0m\u001b[0;34m(\u001b[0m\u001b[0;34m)\u001b[0m\u001b[0;34m\u001b[0m\u001b[0;34m\u001b[0m\u001b[0m\n\u001b[0;32m-> 1828\u001b[0;31m       \u001b[0moutputs\u001b[0m \u001b[0;34m=\u001b[0m \u001b[0mself\u001b[0m\u001b[0;34m.\u001b[0m\u001b[0mtrain_function\u001b[0m\u001b[0;34m(\u001b[0m\u001b[0mins\u001b[0m\u001b[0;34m)\u001b[0m\u001b[0;34m\u001b[0m\u001b[0;34m\u001b[0m\u001b[0m\n\u001b[0m\u001b[1;32m   1829\u001b[0m \u001b[0;34m\u001b[0m\u001b[0m\n\u001b[1;32m   1830\u001b[0m     \u001b[0;32mif\u001b[0m \u001b[0mlen\u001b[0m\u001b[0;34m(\u001b[0m\u001b[0moutputs\u001b[0m\u001b[0;34m)\u001b[0m \u001b[0;34m==\u001b[0m \u001b[0;36m1\u001b[0m\u001b[0;34m:\u001b[0m\u001b[0;34m\u001b[0m\u001b[0;34m\u001b[0m\u001b[0m\n",
            "\u001b[0;32m/usr/local/lib/python3.6/dist-packages/tensorflow/contrib/tpu/python/tpu/keras_support.py\u001b[0m in \u001b[0;36m__call__\u001b[0;34m(self, inputs)\u001b[0m\n\u001b[1;32m    992\u001b[0m     \u001b[0minfeed_manager\u001b[0m \u001b[0;34m=\u001b[0m \u001b[0mself\u001b[0m\u001b[0;34m.\u001b[0m\u001b[0m_lookup_infeed_manager\u001b[0m\u001b[0;34m(\u001b[0m\u001b[0minputs\u001b[0m\u001b[0;34m)\u001b[0m\u001b[0;34m\u001b[0m\u001b[0;34m\u001b[0m\u001b[0m\n\u001b[1;32m    993\u001b[0m     \u001b[0minput_tensors\u001b[0m\u001b[0;34m,\u001b[0m \u001b[0minputs\u001b[0m \u001b[0;34m=\u001b[0m \u001b[0mself\u001b[0m\u001b[0;34m.\u001b[0m\u001b[0m_construct_input_tensors_and_inputs\u001b[0m\u001b[0;34m(\u001b[0m\u001b[0minputs\u001b[0m\u001b[0;34m)\u001b[0m\u001b[0;34m\u001b[0m\u001b[0;34m\u001b[0m\u001b[0m\n\u001b[0;32m--> 994\u001b[0;31m     \u001b[0minfeed_instance\u001b[0m \u001b[0;34m=\u001b[0m \u001b[0minfeed_manager\u001b[0m\u001b[0;34m.\u001b[0m\u001b[0mmake_infeed_instance\u001b[0m\u001b[0;34m(\u001b[0m\u001b[0minputs\u001b[0m\u001b[0;34m)\u001b[0m\u001b[0;34m\u001b[0m\u001b[0;34m\u001b[0m\u001b[0m\n\u001b[0m\u001b[1;32m    995\u001b[0m     \u001b[0;32mdel\u001b[0m \u001b[0minputs\u001b[0m  \u001b[0;31m# To avoid accident usage.\u001b[0m\u001b[0;34m\u001b[0m\u001b[0;34m\u001b[0m\u001b[0m\n\u001b[1;32m    996\u001b[0m     \u001b[0minput_specs\u001b[0m \u001b[0;34m=\u001b[0m \u001b[0minfeed_instance\u001b[0m\u001b[0;34m.\u001b[0m\u001b[0mmake_input_specs\u001b[0m\u001b[0;34m(\u001b[0m\u001b[0minput_tensors\u001b[0m\u001b[0;34m)\u001b[0m\u001b[0;34m\u001b[0m\u001b[0;34m\u001b[0m\u001b[0m\n",
            "\u001b[0;32m/usr/local/lib/python3.6/dist-packages/tensorflow/contrib/tpu/python/tpu/keras_support.py\u001b[0m in \u001b[0;36mmake_infeed_instance\u001b[0;34m(self, inputs)\u001b[0m\n\u001b[1;32m    527\u001b[0m \u001b[0;34m\u001b[0m\u001b[0m\n\u001b[1;32m    528\u001b[0m   \u001b[0;32mdef\u001b[0m \u001b[0mmake_infeed_instance\u001b[0m\u001b[0;34m(\u001b[0m\u001b[0mself\u001b[0m\u001b[0;34m,\u001b[0m \u001b[0minputs\u001b[0m\u001b[0;34m)\u001b[0m\u001b[0;34m:\u001b[0m\u001b[0;34m\u001b[0m\u001b[0;34m\u001b[0m\u001b[0m\n\u001b[0;32m--> 529\u001b[0;31m     \u001b[0msharded_inputs\u001b[0m \u001b[0;34m=\u001b[0m \u001b[0mself\u001b[0m\u001b[0;34m.\u001b[0m\u001b[0m_split_tensors\u001b[0m\u001b[0;34m(\u001b[0m\u001b[0minputs\u001b[0m\u001b[0;34m)\u001b[0m\u001b[0;34m\u001b[0m\u001b[0;34m\u001b[0m\u001b[0m\n\u001b[0m\u001b[1;32m    530\u001b[0m     \u001b[0;32mreturn\u001b[0m \u001b[0mself\u001b[0m\u001b[0;34m.\u001b[0m\u001b[0mNumpyInfeedInstance\u001b[0m\u001b[0;34m(\u001b[0m\u001b[0msharded_inputs\u001b[0m\u001b[0;34m)\u001b[0m\u001b[0;34m\u001b[0m\u001b[0;34m\u001b[0m\u001b[0m\n\u001b[1;32m    531\u001b[0m \u001b[0;34m\u001b[0m\u001b[0m\n",
            "\u001b[0;32m/usr/local/lib/python3.6/dist-packages/tensorflow/contrib/tpu/python/tpu/keras_support.py\u001b[0m in \u001b[0;36m_split_tensors\u001b[0;34m(self, inputs)\u001b[0m\n\u001b[1;32m    516\u001b[0m     assert batch_size % self._strategy.num_towers == 0, (\n\u001b[1;32m    517\u001b[0m         \u001b[0;34m'batch_size must be divisible by strategy.num_towers (%s vs %s)'\u001b[0m \u001b[0;34m%\u001b[0m\u001b[0;34m\u001b[0m\u001b[0;34m\u001b[0m\u001b[0m\n\u001b[0;32m--> 518\u001b[0;31m         (batch_size, self._strategy.num_towers))\n\u001b[0m\u001b[1;32m    519\u001b[0m     \u001b[0mshard_size\u001b[0m \u001b[0;34m=\u001b[0m \u001b[0mbatch_size\u001b[0m \u001b[0;34m//\u001b[0m \u001b[0mself\u001b[0m\u001b[0;34m.\u001b[0m\u001b[0m_strategy\u001b[0m\u001b[0;34m.\u001b[0m\u001b[0mnum_towers\u001b[0m\u001b[0;34m\u001b[0m\u001b[0;34m\u001b[0m\u001b[0m\n\u001b[1;32m    520\u001b[0m     \u001b[0minput_list\u001b[0m \u001b[0;34m=\u001b[0m \u001b[0;34m[\u001b[0m\u001b[0;34m]\u001b[0m\u001b[0;34m\u001b[0m\u001b[0;34m\u001b[0m\u001b[0m\n",
            "\u001b[0;31mAssertionError\u001b[0m: batch_size must be divisible by strategy.num_towers (518 vs 8)"
          ]
        }
      ]
    },
    {
      "cell_type": "code",
      "metadata": {
        "id": "wIl-Crhi7fpA",
        "colab_type": "code",
        "colab": {}
      },
      "source": [
        "# save the model to disk\n",
        "print(\"[INFO] serializing network...\")\n",
        "model.save(\"result.model\")\n",
        "# save the label binarizer to disk\n",
        "print(\"[INFO] serializing label binarizer...\")\n",
        "f = open(\"label.pickle\", \"wb\")\n",
        "f.write(pickle.dumps(lb))\n",
        "f.close()"
      ],
      "execution_count": 0,
      "outputs": []
    },
    {
      "cell_type": "code",
      "metadata": {
        "id": "ar4lmeop71p8",
        "colab_type": "code",
        "colab": {}
      },
      "source": [
        "plt.style.use(\"ggplot\")\n",
        "plt.figure()\n",
        "N = EPOCHS\n",
        "plt.plot(np.arange(0, N), H.history[\"loss\"], label=\"train_loss\")\n",
        "plt.plot(np.arange(0, N), H.history[\"val_loss\"], label=\"val_loss\")\n",
        "plt.plot(np.arange(0, N), H.history[\"accuracy\"], label=\"train_acc\")\n",
        "plt.plot(np.arange(0, N), H.history[\"val_accuracy\"], label=\"val_acc\")\n",
        "plt.title(\"Training Loss and Accuracy\")\n",
        "plt.xlabel(\"Epoch #\")\n",
        "plt.ylabel(\"Loss/Accuracy\")\n",
        "plt.legend(loc=\"upper left\")\n",
        "plt.savefig(\"loss.jpg\")"
      ],
      "execution_count": 0,
      "outputs": []
    },
    {
      "cell_type": "code",
      "metadata": {
        "id": "MWn9uwktKaKh",
        "colab_type": "code",
        "colab": {}
      },
      "source": [
        "from IPython.display import Image\n",
        "Image(filename='loss.jpg', width=700, height=500) "
      ],
      "execution_count": 0,
      "outputs": []
    }
  ]
}