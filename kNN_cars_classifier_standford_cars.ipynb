{
  "nbformat": 4,
  "nbformat_minor": 0,
  "metadata": {
    "colab": {
      "name": "kNN-cars-classifier-standford-cars.ipynb",
      "provenance": [],
      "collapsed_sections": [],
      "authorship_tag": "ABX9TyOSYX/SHp5GzFdKc2ObBFtB",
      "include_colab_link": true
    },
    "kernelspec": {
      "name": "python3",
      "display_name": "Python 3"
    }
  },
  "cells": [
    {
      "cell_type": "markdown",
      "metadata": {
        "id": "view-in-github",
        "colab_type": "text"
      },
      "source": [
        "<a href=\"https://colab.research.google.com/github/luqmansen/notebook-collection/blob/master/kNN_cars_classifier_standford_cars.ipynb\" target=\"_parent\"><img src=\"https://colab.research.google.com/assets/colab-badge.svg\" alt=\"Open In Colab\"/></a>"
      ]
    },
    {
      "cell_type": "markdown",
      "metadata": {
        "id": "HlZdkkvizobM",
        "colab_type": "text"
      },
      "source": [
        "# **Tugas Mata Kuliah Data Mining**\n",
        "## Klasifikasi Data Citra menggunakan KNN\n",
        "\n",
        "1. Luqman Setyo / Nugroho 21120117120008\n",
        "\n",
        "2. Heidy novendra / 21120117130035\n",
        "\n",
        "3. Faiz Noerdiyan / 21120117130060\n",
        "\n",
        "4. Chandra Purnama / 21120117130070"
      ]
    },
    {
      "cell_type": "markdown",
      "metadata": {
        "id": "8tFBHuxpKYFJ",
        "colab_type": "text"
      },
      "source": [
        "Sumber dataset\n",
        "\n",
        "Stanford Car Dataset by classes folder\n",
        "\n",
        "https://www.kaggle.com/jutrera/stanford-car-dataset-by-classes-folder"
      ]
    },
    {
      "cell_type": "code",
      "metadata": {
        "id": "qIL8_2LA9TX7",
        "colab_type": "code",
        "outputId": "cb4c46dd-1d06-4886-ab42-19186140a34c",
        "colab": {
          "base_uri": "https://localhost:8080/",
          "height": 52
        }
      },
      "source": [
        "from google.colab import drive\n",
        "drive.mount('/content/drive/')\n",
        "%cd '/content/drive/My Drive/Colab Notebooks/knn-Cars-classifier'"
      ],
      "execution_count": 1,
      "outputs": [
        {
          "output_type": "stream",
          "text": [
            "Drive already mounted at /content/drive/; to attempt to forcibly remount, call drive.mount(\"/content/drive/\", force_remount=True).\n",
            "/content/drive/My Drive/Colab Notebooks/knn-Cars-classifier\n"
          ],
          "name": "stdout"
        }
      ]
    },
    {
      "cell_type": "code",
      "metadata": {
        "id": "CShDggMdwjjz",
        "colab_type": "code",
        "outputId": "07bdc9a4-d872-411a-dfd1-487a352f65c2",
        "colab": {
          "base_uri": "https://localhost:8080/",
          "height": 34
        }
      },
      "source": [
        "!pwd"
      ],
      "execution_count": 2,
      "outputs": [
        {
          "output_type": "stream",
          "text": [
            "/content/drive/My Drive/Colab Notebooks/knn-Cars-classifier\n"
          ],
          "name": "stdout"
        }
      ]
    },
    {
      "cell_type": "code",
      "metadata": {
        "id": "0wl2ko6f_aRi",
        "colab_type": "code",
        "outputId": "ac11234f-320e-4eda-f012-5eb5a116eae8",
        "colab": {
          "base_uri": "https://localhost:8080/",
          "height": 285
        }
      },
      "source": [
        "!wget 'https://storage.googleapis.com/kaggle-data-sets/31559/46697/bundle/archive.zip?GoogleAccessId=web-data@kaggle-161607.iam.gserviceaccount.com&Expires=1586698258&Signature=EYYFx3xlTVzpnBRMqIndbj%2FsoOE4viyYWJABJILIwA99fIN7skQWjOcS%2FOGNrb8i62jGPXdnJ%2F667yom0LNJlWO01msTHM1kiNRMs9ZxupFbwgwDCb4Dena2D%2FSMSmLfut5Sq4Yc0uJ6YU2znfQLOgJP5x8lFZrqPQL9bGRnESynAp0hZ%2BSCcqIIJ4flBcNFj%2F7bsBUZWLA%2BHQx%2FteI8NMuN%2BnFYXI%2FGWdQvDvoCLzqTTwZ3zHdDuHbzFM4MgZ7XWk8Xsgj5wBiGIRyq5ndLDY4UfnnERyOnXgmrL5empYwMNQIwNIT%2B6q6jHtAlYgV1w1bxQ29sMuZ4q%2FKpqnJdFw%3D%3D&response-content-disposition=attachment%3B+filename%3Dstanford-car-dataset-by-classes-folder.zip'"
      ],
      "execution_count": 0,
      "outputs": [
        {
          "output_type": "stream",
          "text": [
            "The name is too long, 556 chars total.\n",
            "Trying to shorten...\n",
            "New name is archive.zip?GoogleAccessId=web-data@kaggle-161607.iam.gserviceaccount.com&Expires=1586698258&Signature=EYYFx3xlTVzpnBRMqIndbj%2FsoOE4viyYWJABJILIwA99fIN7skQWjOcS%2FOGNrb8i62jGPXdnJ%2F667yom0LNJlWO01msTHM1kiNRMs9ZxupFbwgwDCb4Dena2D%2FSMS.\n",
            "--2020-04-09 13:36:05--  https://storage.googleapis.com/kaggle-data-sets/31559/46697/bundle/archive.zip?GoogleAccessId=web-data@kaggle-161607.iam.gserviceaccount.com&Expires=1586698258&Signature=EYYFx3xlTVzpnBRMqIndbj%2FsoOE4viyYWJABJILIwA99fIN7skQWjOcS%2FOGNrb8i62jGPXdnJ%2F667yom0LNJlWO01msTHM1kiNRMs9ZxupFbwgwDCb4Dena2D%2FSMSmLfut5Sq4Yc0uJ6YU2znfQLOgJP5x8lFZrqPQL9bGRnESynAp0hZ%2BSCcqIIJ4flBcNFj%2F7bsBUZWLA%2BHQx%2FteI8NMuN%2BnFYXI%2FGWdQvDvoCLzqTTwZ3zHdDuHbzFM4MgZ7XWk8Xsgj5wBiGIRyq5ndLDY4UfnnERyOnXgmrL5empYwMNQIwNIT%2B6q6jHtAlYgV1w1bxQ29sMuZ4q%2FKpqnJdFw%3D%3D&response-content-disposition=attachment%3B+filename%3Dstanford-car-dataset-by-classes-folder.zip\n",
            "Resolving storage.googleapis.com (storage.googleapis.com)... 172.217.203.128, 2607:f8b0:400c:c12::80\n",
            "Connecting to storage.googleapis.com (storage.googleapis.com)|172.217.203.128|:443... connected.\n",
            "HTTP request sent, awaiting response... 200 OK\n",
            "Length: 1960225373 (1.8G) [application/zip]\n",
            "Saving to: ‘archive.zip?GoogleAccessId=web-data@kaggle-161607.iam.gserviceaccount.com&Expires=1586698258&Signature=EYYFx3xlTVzpnBRMqIndbj%2FsoOE4viyYWJABJILIwA99fIN7skQWjOcS%2FOGNrb8i62jGPXdnJ%2F667yom0LNJlWO01msTHM1kiNRMs9ZxupFbwgwDCb4Dena2D%2FSMS’\n",
            "\n",
            "archive.zip?GoogleA 100%[===================>]   1.83G  51.5MB/s    in 37s     \n",
            "\n",
            "2020-04-09 13:36:42 (50.0 MB/s) - ‘archive.zip?GoogleAccessId=web-data@kaggle-161607.iam.gserviceaccount.com&Expires=1586698258&Signature=EYYFx3xlTVzpnBRMqIndbj%2FsoOE4viyYWJABJILIwA99fIN7skQWjOcS%2FOGNrb8i62jGPXdnJ%2F667yom0LNJlWO01msTHM1kiNRMs9ZxupFbwgwDCb4Dena2D%2FSMS’ saved [1960225373/1960225373]\n",
            "\n"
          ],
          "name": "stdout"
        }
      ]
    },
    {
      "cell_type": "code",
      "metadata": {
        "id": "SMzc_bd0AAlo",
        "colab_type": "code",
        "colab": {}
      },
      "source": [
        "!unzip -q archive*"
      ],
      "execution_count": 0,
      "outputs": []
    },
    {
      "cell_type": "code",
      "metadata": {
        "id": "USMwZF3yCGsz",
        "colab_type": "code",
        "colab": {}
      },
      "source": [
        "from sklearn.neighbors import KNeighborsClassifier\n",
        "from sklearn.model_selection import GridSearchCV, RandomizedSearchCV\n",
        "from imutils import paths\n",
        "import numpy as np\n",
        "import argparse\n",
        "import imutils\n",
        "import cv2\n",
        "import os\n",
        "import time"
      ],
      "execution_count": 0,
      "outputs": []
    },
    {
      "cell_type": "code",
      "metadata": {
        "id": "TRodSw4HCOW-",
        "colab_type": "code",
        "colab": {}
      },
      "source": [
        "def image_to_feature_vector(image, size=(32, 32)):\n",
        "\t# Konversi gambar menjadi berukuran 32x32 \n",
        "    \n",
        "  # return berupa list of number 32x32x3 (3 = channel rgb) = list of 3.072 \n",
        "\treturn cv2.resize(image, size).flatten()"
      ],
      "execution_count": 0,
      "outputs": []
    },
    {
      "cell_type": "code",
      "metadata": {
        "id": "_mzcSsAPDG-V",
        "colab_type": "code",
        "colab": {}
      },
      "source": [
        "def extract_color_histogram(image, bins=(8, 8, 8)):\n",
        "\t# konversi gambar ke hsv\n",
        "\thsv = cv2.cvtColor(image, cv2.COLOR_BGR2HSV)\n",
        "  # menghitung histogram gambar\n",
        "\thist = cv2.calcHist([hsv], [0, 1, 2], None, bins,[0, 180, 0, 256, 0, 256])\n",
        "\t\n",
        "  # Normalisasi histogram\n",
        "\tif imutils.is_cv2():\n",
        "\t\thist = cv2.normalize(hist)\n",
        "\telse:\n",
        "\t\tcv2.normalize(hist, hist)\n",
        "  \n",
        "\t# return berupa feature vector 512-d (8 untuk tiap H,S,V sehingga 8x8x8)\n",
        "\treturn hist.flatten()"
      ],
      "execution_count": 0,
      "outputs": []
    },
    {
      "cell_type": "code",
      "metadata": {
        "id": "qj_DMqbyFO0B",
        "colab_type": "code",
        "colab": {}
      },
      "source": [
        "imagePaths = list(paths.list_images(\"car_data/car_data/train/\"))\n",
        "# initialize the raw pixel intensities matrix, the features matrix, and labels list\n",
        "rawImages = []\n",
        "features = []\n",
        "labels = []"
      ],
      "execution_count": 0,
      "outputs": []
    },
    {
      "cell_type": "code",
      "metadata": {
        "id": "xiUW09HjQM62",
        "colab_type": "code",
        "colab": {}
      },
      "source": [
        "test_imagePaths = list(paths.list_images(\"car_data/car_data/test/\"))\n",
        "# initialize the raw pixel intensities matrix, the features matrix, and labels list\n",
        "test_rawImages = []\n",
        "test_features = []\n",
        "test_labels = []"
      ],
      "execution_count": 0,
      "outputs": []
    },
    {
      "cell_type": "code",
      "metadata": {
        "id": "iENXUojxFj_T",
        "colab_type": "code",
        "colab": {}
      },
      "source": [
        "def extractor(raw_list, feature_list, label_list, path):\n",
        "  print(\"[INFO] proccessing {}\".format(\"-\".join(path[0].split(\"/\")[1:3])))\n",
        "  # loop over the input images\n",
        "  for (i, imagePath) in enumerate(path):\n",
        "    # load the image and extract the class label \n",
        "    image = cv2.imread(imagePath)\n",
        "    label = imagePath.split(\"/\")[-2]\n",
        "    # extract raw pixel intensity \"features\", followed by a color\n",
        "    # histogram to characterize the color distribution of the pixels in the image\n",
        "    pixels = image_to_feature_vector(image)\n",
        "    hist = extract_color_histogram(image)\n",
        "    # update the raw images, features, and labels matricies, respectively\n",
        "    raw_list.append(pixels)\n",
        "    feature_list.append(hist)\n",
        "    label_list.append(label)\n",
        "    # show an update every 1,000 images\n",
        "    if i > 0 and i % 1000 == 0:\n",
        "      print(\"[INFO] processed {}/{}\".format(i, len(path)))"
      ],
      "execution_count": 0,
      "outputs": []
    },
    {
      "cell_type": "code",
      "metadata": {
        "id": "qMHb_RreTNVE",
        "colab_type": "code",
        "outputId": "4cfaa8ed-15b2-4c89-ccee-15c233b438e9",
        "colab": {
          "base_uri": "https://localhost:8080/",
          "height": 176
        }
      },
      "source": [
        "extractor(rawImages, features, labels,imagePaths)"
      ],
      "execution_count": 55,
      "outputs": [
        {
          "output_type": "stream",
          "text": [
            "[INFO] proccessing car_data-train\n",
            "[INFO] processed 1000/8144\n",
            "[INFO] processed 2000/8144\n",
            "[INFO] processed 3000/8144\n",
            "[INFO] processed 4000/8144\n",
            "[INFO] processed 5000/8144\n",
            "[INFO] processed 6000/8144\n",
            "[INFO] processed 7000/8144\n",
            "[INFO] processed 8000/8144\n"
          ],
          "name": "stdout"
        }
      ]
    },
    {
      "cell_type": "code",
      "metadata": {
        "id": "7n_-g0w7BDeV",
        "colab_type": "code",
        "colab": {
          "base_uri": "https://localhost:8080/",
          "height": 176
        },
        "outputId": "e2d21037-00b4-4278-d12f-6e2ad65ad1b0"
      },
      "source": [
        "extractor(test_rawImages, test_features, test_labels, test_imagePaths)"
      ],
      "execution_count": 56,
      "outputs": [
        {
          "output_type": "stream",
          "text": [
            "[INFO] proccessing car_data-test\n",
            "[INFO] processed 1000/8041\n",
            "[INFO] processed 2000/8041\n",
            "[INFO] processed 3000/8041\n",
            "[INFO] processed 4000/8041\n",
            "[INFO] processed 5000/8041\n",
            "[INFO] processed 6000/8041\n",
            "[INFO] processed 7000/8041\n",
            "[INFO] processed 8000/8041\n"
          ],
          "name": "stdout"
        }
      ]
    },
    {
      "cell_type": "code",
      "metadata": {
        "id": "kyMNe1IiMF25",
        "colab_type": "code",
        "outputId": "3fac32dd-5e9a-4b64-cd02-fc712c41c42f",
        "colab": {
          "base_uri": "https://localhost:8080/",
          "height": 87
        }
      },
      "source": [
        "# show some information on the memory consumed by the raw images\n",
        "# matrix and features matrix\n",
        "rawImages = np.array(rawImages)\n",
        "features = np.array(features)\n",
        "labels = np.array(labels)\n",
        "test_rawImages = np.array(test_rawImages)\n",
        "test_features = np.array(test_features)\n",
        "test_labels = np.array(test_labels)\n",
        "print(\"[INFO] pixels matrix: {:.2f}MB\".format(rawImages.nbytes / (1024 * 1000.0)))\n",
        "print(\"[INFO] features matrix: {:.2f}MB\".format(features.nbytes / (1024 * 1000.0)))\n",
        "print(\"[INFO] test pixels matrix: {:.2f}MB\".format(test_rawImages.nbytes / (1024 * 1000.0)))\n",
        "print(\"[INFO] test features matrix: {:.2f}MB\".format(test_features.nbytes / (1024 * 1000.0)))"
      ],
      "execution_count": 57,
      "outputs": [
        {
          "output_type": "stream",
          "text": [
            "[INFO] pixels matrix: 24.43MB\n",
            "[INFO] features matrix: 16.29MB\n",
            "[INFO] test pixels matrix: 24.12MB\n",
            "[INFO] test features matrix: 16.08MB\n"
          ],
          "name": "stdout"
        }
      ]
    },
    {
      "cell_type": "code",
      "metadata": {
        "id": "9_mMVLCmOR6t",
        "colab_type": "code",
        "outputId": "02ca2848-51a5-4b93-b389-5a05fcdf7359",
        "colab": {
          "base_uri": "https://localhost:8080/",
          "height": 52
        }
      },
      "source": [
        "# train and evaluate a k-NN classifer on the raw pixel intensities\n",
        "print(\"[INFO] evaluating raw pixel accuracy...\")\n",
        "model = KNeighborsClassifier(n_neighbors=1,\tn_jobs=-1)\n",
        "model.fit(rawImages, labels)\n",
        "acc = model.score(test_rawImages, test_labels)\n",
        "print(\"[INFO] raw pixel accuracy: {:.2f}%\".format(acc * 100))"
      ],
      "execution_count": 58,
      "outputs": [
        {
          "output_type": "stream",
          "text": [
            "[INFO] evaluating raw pixel accuracy...\n",
            "[INFO] raw pixel accuracy: 2.70%\n"
          ],
          "name": "stdout"
        }
      ]
    },
    {
      "cell_type": "code",
      "metadata": {
        "id": "ZJ0f_pjLXDPq",
        "colab_type": "code",
        "outputId": "38a882dc-077a-43e8-e8cc-5dac176af424",
        "colab": {
          "base_uri": "https://localhost:8080/",
          "height": 52
        }
      },
      "source": [
        "# train and evaluate a k-NN classifer on the histogram\n",
        "print(\"[INFO] evaluating raw pixel accuracy...\")\n",
        "model = KNeighborsClassifier(n_neighbors=1,\tn_jobs=-1)\n",
        "model.fit(features, labels)\n",
        "acc = model.score(test_features, test_labels)\n",
        "print(\"[INFO] histogram pixel accuracy: {:.2f}%\".format(acc * 100))"
      ],
      "execution_count": 59,
      "outputs": [
        {
          "output_type": "stream",
          "text": [
            "[INFO] evaluating raw pixel accuracy...\n",
            "[INFO] histogram pixel accuracy: 4.43%\n"
          ],
          "name": "stdout"
        }
      ]
    },
    {
      "cell_type": "markdown",
      "metadata": {
        "id": "1Et0ZA0NZL5h",
        "colab_type": "text"
      },
      "source": [
        "## Hyperparameter tunning\n",
        "\n",
        "n_neghbors : jumlah NN k (dari 0 hingga 29, exclusive)\n",
        "\n",
        "metrics : distance function metrics"
      ]
    },
    {
      "cell_type": "code",
      "metadata": {
        "id": "RETBhAhrZJ9Y",
        "colab_type": "code",
        "colab": {}
      },
      "source": [
        "params = {\"n_neighbors\": np.arange(1, 63, 2),\n",
        "\t\"metric\": [\"euclidean\", \"cityblock\"]}"
      ],
      "execution_count": 0,
      "outputs": []
    },
    {
      "cell_type": "code",
      "metadata": {
        "id": "N3iL6vdqcq21",
        "colab_type": "code",
        "colab": {}
      },
      "source": [
        "model = KNeighborsClassifier(n_jobs=-1)"
      ],
      "execution_count": 0,
      "outputs": []
    },
    {
      "cell_type": "code",
      "metadata": {
        "id": "_Yxoc2oMcOWt",
        "colab_type": "code",
        "colab": {
          "base_uri": "https://localhost:8080/",
          "height": 141
        },
        "outputId": "bd8fd182-7507-415f-e2a7-6cac6927096d"
      },
      "source": [
        "# tune the hyperparameters via a randomized search\n",
        "print(\"[INFO] tuning hyperparameters via randomized search\")\n",
        "grid = RandomizedSearchCV(model, params, verbose=1)\n",
        "start = time.time()\n",
        "grid.fit(features, labels)\n",
        "# evaluate the best randomized searched model on the testing data\n",
        "print(\"[INFO] randomized search took {:.2f} seconds\".format(time.time() - start))\n",
        "acc = grid.score(test_features, test_labels)\n",
        "print(\"[INFO] randomized search accuracy: {:.2f}%\".format(acc * 100))\n",
        "print(\"[INFO] randomized search best parameters: {}\".format(grid.best_params_))"
      ],
      "execution_count": 74,
      "outputs": [
        {
          "output_type": "stream",
          "text": [
            "[INFO] tuning hyperparameters via randomized search\n",
            "Fitting 5 folds for each of 10 candidates, totalling 50 fits\n"
          ],
          "name": "stdout"
        },
        {
          "output_type": "stream",
          "text": [
            "[Parallel(n_jobs=1)]: Using backend SequentialBackend with 1 concurrent workers.\n",
            "[Parallel(n_jobs=1)]: Done  50 out of  50 | elapsed:  6.6min finished\n"
          ],
          "name": "stderr"
        },
        {
          "output_type": "stream",
          "text": [
            "[INFO] randomized search took 397.68 seconds\n",
            "[INFO] randomized search accuracy: 3.12%\n",
            "[INFO] randomized search best parameters: {'n_neighbors': 11, 'metric': 'cityblock'}\n"
          ],
          "name": "stdout"
        }
      ]
    },
    {
      "cell_type": "code",
      "metadata": {
        "id": "nF7JKtJSZeEm",
        "colab_type": "code",
        "colab": {
          "base_uri": "https://localhost:8080/",
          "height": 70
        },
        "outputId": "1be03641-80b3-4d06-95a1-0bac1fd384a1"
      },
      "source": [
        "# Grid Search tuning\n",
        "print(\"[INFO] tuning hyperparameters via grid search\")\n",
        "grid = GridSearchCV(model, params, verbose=1)\n",
        "start = time.time()\n",
        "grid.fit(features, labels)\n",
        "# evaluate the best grid searched model on the testing data\n",
        "print(\"[INFO] grid search took {:.2f} seconds\".format(time.time() - start))\n",
        "acc = grid.score(test_features, test_labels)\n",
        "print(\"[INFO] grid search accuracy: {:.2f}%\".format(acc * 100))\n",
        "print(\"[INFO] grid search best parameters: {}\".format(grid.best_params_))"
      ],
      "execution_count": 0,
      "outputs": [
        {
          "output_type": "stream",
          "text": [
            "[INFO] tuning hyperparameters via grid search\n",
            "Fitting 5 folds for each of 62 candidates, totalling 310 fits\n"
          ],
          "name": "stdout"
        },
        {
          "output_type": "stream",
          "text": [
            "[Parallel(n_jobs=1)]: Using backend SequentialBackend with 1 concurrent workers.\n"
          ],
          "name": "stderr"
        }
      ]
    }
  ]
}