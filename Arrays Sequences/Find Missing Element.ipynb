{
 "cells": [
  {
   "cell_type": "markdown",
   "metadata": {},
   "source": [
    "# Find the Missing Element\n",
    "\n",
    "## Problem\n",
    "\n",
    "Consider an array of non-negative integers. A second array is formed by shuffling the elements of the first array and deleting a random element. Given these two arrays, find which element is missing in the second array.\n",
    "\n",
    "Here is an example input, the first array is shuffled and the number 5 is removed to construct the second array.\n",
    "\n",
    "Input:\n",
    "\n",
    "`finder([1,2,3,4,5,6,7],[3,7,2,1,4,6])`\n",
    "\n",
    "Output:\n",
    "\n",
    "`5 is the missing number`\n",
    "\n",
    "## Solution"
   ]
  },
  {
   "cell_type": "markdown",
   "metadata": {},
   "source": [
    "so there is an easy solution with the method of set object `set().difference`\n",
    "\n",
    "lets implement that"
   ]
  },
  {
   "cell_type": "code",
   "execution_count": 63,
   "metadata": {
    "scrolled": true
   },
   "outputs": [],
   "source": [
    "def finder(arr1,arr2):\n",
    "    \n",
    "    a = set()\n",
    "    b = set()\n",
    "    \n",
    "    for i in ar1:\n",
    "        a.add(i)\n",
    "    \n",
    "    for j in ar2:\n",
    "        b.add(j)\n",
    "    \n",
    "    return (\"\\n\".join(map(str,list(a.difference(b)))))\n",
    "    "
   ]
  },
  {
   "cell_type": "code",
   "execution_count": 64,
   "metadata": {},
   "outputs": [
    {
     "data": {
      "text/plain": [
       "'5'"
      ]
     },
     "execution_count": 64,
     "metadata": {},
     "output_type": "execute_result"
    }
   ],
   "source": [
    "ar1 = [1,2,3,4,5,6,7]\n",
    "ar2 =[3,7,2,1,4,6]\n",
    "\n",
    "finder(ar1,ar2)"
   ]
  },
  {
   "cell_type": "markdown",
   "metadata": {},
   "source": [
    "## Try another algorithm for more manual  method"
   ]
  },
  {
   "cell_type": "code",
   "execution_count": 67,
   "metadata": {},
   "outputs": [],
   "source": [
    "def finder2(arr1,arr2):\n",
    "    \n",
    "    a = set()\n",
    "       \n",
    "    for i in ar1:\n",
    "        a.add(i)\n",
    "    \n",
    "    for j in ar2:\n",
    "        if j in a:\n",
    "            a.remove(j)\n",
    "    \n",
    "    \n",
    "    return (\"\\n\".join(map(str,list(a))))\n",
    "    "
   ]
  },
  {
   "cell_type": "code",
   "execution_count": 68,
   "metadata": {},
   "outputs": [
    {
     "data": {
      "text/plain": [
       "'5'"
      ]
     },
     "execution_count": 68,
     "metadata": {},
     "output_type": "execute_result"
    }
   ],
   "source": [
    "ar1 = [1,2,3,4,5,6,7]\n",
    "ar2 =[3,7,2,1,4,6]\n",
    "\n",
    "finder2(ar1,ar2)"
   ]
  },
  {
   "cell_type": "markdown",
   "metadata": {},
   "source": [
    "This one also work "
   ]
  },
  {
   "cell_type": "markdown",
   "metadata": {},
   "source": [
    "## Another method without using set"
   ]
  },
  {
   "cell_type": "code",
   "execution_count": 69,
   "metadata": {},
   "outputs": [],
   "source": [
    "def finder3(arr1,arr2):      \n",
    "            \n",
    "    for i in arr1:\n",
    "        if i not in arr2:\n",
    "            return i    "
   ]
  },
  {
   "cell_type": "code",
   "execution_count": 70,
   "metadata": {},
   "outputs": [
    {
     "data": {
      "text/plain": [
       "5"
      ]
     },
     "execution_count": 70,
     "metadata": {},
     "output_type": "execute_result"
    }
   ],
   "source": [
    "ar1 = [1,2,3,4,5,6,7]\n",
    "ar2 =[3,7,2,1,4,6]\n",
    "\n",
    "finder3(ar1,ar2)"
   ]
  },
  {
   "cell_type": "markdown",
   "metadata": {},
   "source": [
    "\n",
    "Well, this one surprsingly also work "
   ]
  },
  {
   "cell_type": "markdown",
   "metadata": {},
   "source": [
    "## Solution from answer key"
   ]
  },
  {
   "cell_type": "markdown",
   "metadata": {},
   "source": [
    "in above solution that i give, i'm not concerning about the complexity of algorithm, so it's kinda brute force method."
   ]
  },
  {
   "cell_type": "code",
   "execution_count": 102,
   "metadata": {},
   "outputs": [],
   "source": [
    "def finder3(arr1,arr2):      \n",
    "            \n",
    "    for i in arr1:\n",
    "        if i not in arr2:\n",
    "            return i\n",
    "    return arr1[-1]"
   ]
  },
  {
   "cell_type": "markdown",
   "metadata": {},
   "source": [
    "Above method, has worst case scenario of O(N)"
   ]
  },
  {
   "cell_type": "markdown",
   "metadata": {},
   "source": [
    "here the solution from the answer key "
   ]
  },
  {
   "cell_type": "code",
   "execution_count": 95,
   "metadata": {},
   "outputs": [],
   "source": [
    "def finder4(arr1,arr2):\n",
    "    \n",
    "    arr1.sort()\n",
    "    arr2.sort()\n",
    "    \n",
    "    for num1, num2 in zip(arr1,arr2):\n",
    "        #print(\"{:1d}, {:1d}\".format(num1,num2))\n",
    "        \n",
    "        if num1 != num2:\n",
    "            return num1\n",
    "    \n",
    "    return arr1[-1]"
   ]
  },
  {
   "cell_type": "code",
   "execution_count": 104,
   "metadata": {},
   "outputs": [
    {
     "data": {
      "text/plain": [
       "5"
      ]
     },
     "execution_count": 104,
     "metadata": {},
     "output_type": "execute_result"
    }
   ],
   "source": [
    "finder4(ar1, ar2)"
   ]
  },
  {
   "cell_type": "code",
   "execution_count": null,
   "metadata": {},
   "outputs": [],
   "source": []
  },
  {
   "cell_type": "code",
   "execution_count": 103,
   "metadata": {},
   "outputs": [
    {
     "name": "stdout",
     "output_type": "stream",
     "text": [
      "3.31 µs ± 650 ns per loop (mean ± std. dev. of 7 runs, 100000 loops each)\n",
      "2.18 µs ± 21.7 ns per loop (mean ± std. dev. of 7 runs, 100000 loops each)\n",
      "405 ns ± 4.42 ns per loop (mean ± std. dev. of 7 runs, 1000000 loops each)\n",
      "1.07 µs ± 237 ns per loop (mean ± std. dev. of 7 runs, 1000000 loops each)\n"
     ]
    }
   ],
   "source": [
    "%timeit finder(ar1, ar2)\n",
    "%timeit finder2(ar1, ar2)\n",
    "%timeit finder3(ar1, ar2) # wow my algorithm surprisingly faster than the anwer key !\n",
    "%timeit finder4(ar1, ar2)"
   ]
  }
 ],
 "metadata": {
  "kernelspec": {
   "display_name": "Python 3",
   "language": "python",
   "name": "python3"
  },
  "language_info": {
   "codemirror_mode": {
    "name": "ipython",
    "version": 3
   },
   "file_extension": ".py",
   "mimetype": "text/x-python",
   "name": "python",
   "nbconvert_exporter": "python",
   "pygments_lexer": "ipython3",
   "version": "3.7.3"
  }
 },
 "nbformat": 4,
 "nbformat_minor": 2
}
